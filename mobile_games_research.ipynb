{
 "cells": [
  {
   "cell_type": "markdown",
   "id": "40736b61",
   "metadata": {},
   "source": [
    "### About Dataset\n",
    "##### Overview\n",
    "The mobile games industry is worth billions of dollars, with companies spending vast amounts of money on the development and marketing of these games to an equally large market. Using this data set, insights can be gained into a sub-market of this market, strategy games. This sub-market includes titles such as Clash of Clans, Plants vs Zombies and Pokemon GO.\n",
    "\n",
    "#### Background\n",
    "This is the data of 17007 strategy games on the Apple App Store. It was collected on the 3rd of August 2019, using the iTunes API and the App Store sitemap.\n",
    "\n",
    "#### Some ideas\n",
    "You could use the number of ratings as a proxy indicator for the overall success of a game, and then work out what factors make a successful game. Or you could measure the state of the market over time and try predict where it is headed\n",
    "______\n"
   ]
  },
  {
   "cell_type": "markdown",
   "id": "5bca73ab",
   "metadata": {},
   "source": [
    "# Главная задача: посмотреть на данные во всевзможных разрезах и понять какие игры становятся самыми популярными у пользователей\n",
    "_____"
   ]
  },
  {
   "cell_type": "code",
   "execution_count": 76,
   "id": "0b2332b2",
   "metadata": {},
   "outputs": [],
   "source": [
    "# загрузим нужные библиотеки\n",
    "import pandas as pd\n",
    "import numpy as np\n",
    "\n",
    "# визуализация\n",
    "import matplotlib\n",
    "import matplotlib.pyplot as plt\n",
    "plt.style.use('ggplot')\n",
    "plt.rcParams['figure.dpi'] = 100\n",
    "import seaborn as sns\n",
    "sns.set_palette('husl')\n",
    "\n",
    "import datetime as dt\n",
    "\n",
    "from IPython.display import Markdown\n",
    "def bold(string):\n",
    "    display(Markdown(string))\n"
   ]
  },
  {
   "cell_type": "code",
   "execution_count": 51,
   "id": "a641dec7",
   "metadata": {},
   "outputs": [
    {
     "data": {
      "text/html": [
       "<div>\n",
       "<style scoped>\n",
       "    .dataframe tbody tr th:only-of-type {\n",
       "        vertical-align: middle;\n",
       "    }\n",
       "\n",
       "    .dataframe tbody tr th {\n",
       "        vertical-align: top;\n",
       "    }\n",
       "\n",
       "    .dataframe thead th {\n",
       "        text-align: right;\n",
       "    }\n",
       "</style>\n",
       "<table border=\"1\" class=\"dataframe\">\n",
       "  <thead>\n",
       "    <tr style=\"text-align: right;\">\n",
       "      <th></th>\n",
       "      <th>ID</th>\n",
       "      <th>Name</th>\n",
       "      <th>Average_User_Rating</th>\n",
       "      <th>User_Rating_Count</th>\n",
       "      <th>Price</th>\n",
       "      <th>In-app_Purchases</th>\n",
       "      <th>Description</th>\n",
       "      <th>Developer</th>\n",
       "      <th>Age_Rating</th>\n",
       "      <th>Languages</th>\n",
       "      <th>Size</th>\n",
       "      <th>Primary_Genre</th>\n",
       "      <th>Genres</th>\n",
       "      <th>Original_Release_Date</th>\n",
       "      <th>Current_Version_Release_Date</th>\n",
       "    </tr>\n",
       "  </thead>\n",
       "  <tbody>\n",
       "    <tr>\n",
       "      <th>0</th>\n",
       "      <td>284921427</td>\n",
       "      <td>Sudoku</td>\n",
       "      <td>4.0</td>\n",
       "      <td>3553.0</td>\n",
       "      <td>2.99</td>\n",
       "      <td>NaN</td>\n",
       "      <td>Join over 21,000,000 of our fans and download ...</td>\n",
       "      <td>Mighty Mighty Good Games</td>\n",
       "      <td>4+</td>\n",
       "      <td>DA, NL, EN, FI, FR, DE, IT, JA, KO, NB, PL, PT...</td>\n",
       "      <td>15853568.0</td>\n",
       "      <td>Games</td>\n",
       "      <td>Games, Strategy, Puzzle</td>\n",
       "      <td>11/07/2008</td>\n",
       "      <td>30/05/2017</td>\n",
       "    </tr>\n",
       "    <tr>\n",
       "      <th>1</th>\n",
       "      <td>284926400</td>\n",
       "      <td>Reversi</td>\n",
       "      <td>3.5</td>\n",
       "      <td>284.0</td>\n",
       "      <td>1.99</td>\n",
       "      <td>NaN</td>\n",
       "      <td>The classic game of Reversi, also known as Oth...</td>\n",
       "      <td>Kiss The Machine</td>\n",
       "      <td>4+</td>\n",
       "      <td>EN</td>\n",
       "      <td>12328960.0</td>\n",
       "      <td>Games</td>\n",
       "      <td>Games, Strategy, Board</td>\n",
       "      <td>11/07/2008</td>\n",
       "      <td>17/05/2018</td>\n",
       "    </tr>\n",
       "    <tr>\n",
       "      <th>2</th>\n",
       "      <td>284946595</td>\n",
       "      <td>Morocco</td>\n",
       "      <td>3.0</td>\n",
       "      <td>8376.0</td>\n",
       "      <td>0.00</td>\n",
       "      <td>NaN</td>\n",
       "      <td>Play the classic strategy game Othello (also k...</td>\n",
       "      <td>Bayou Games</td>\n",
       "      <td>4+</td>\n",
       "      <td>EN</td>\n",
       "      <td>674816.0</td>\n",
       "      <td>Games</td>\n",
       "      <td>Games, Board, Strategy</td>\n",
       "      <td>11/07/2008</td>\n",
       "      <td>5/09/2017</td>\n",
       "    </tr>\n",
       "    <tr>\n",
       "      <th>3</th>\n",
       "      <td>285755462</td>\n",
       "      <td>Sudoku (Free)</td>\n",
       "      <td>3.5</td>\n",
       "      <td>190394.0</td>\n",
       "      <td>0.00</td>\n",
       "      <td>NaN</td>\n",
       "      <td>Top 100 free app for over a year.\\nRated \"Best...</td>\n",
       "      <td>Mighty Mighty Good Games</td>\n",
       "      <td>4+</td>\n",
       "      <td>DA, NL, EN, FI, FR, DE, IT, JA, KO, NB, PL, PT...</td>\n",
       "      <td>21552128.0</td>\n",
       "      <td>Games</td>\n",
       "      <td>Games, Strategy, Puzzle</td>\n",
       "      <td>23/07/2008</td>\n",
       "      <td>30/05/2017</td>\n",
       "    </tr>\n",
       "    <tr>\n",
       "      <th>4</th>\n",
       "      <td>285831220</td>\n",
       "      <td>Senet Deluxe</td>\n",
       "      <td>3.5</td>\n",
       "      <td>28.0</td>\n",
       "      <td>2.99</td>\n",
       "      <td>NaN</td>\n",
       "      <td>\"Senet Deluxe - The Ancient Game of Life and A...</td>\n",
       "      <td>RoGame Software</td>\n",
       "      <td>4+</td>\n",
       "      <td>DA, NL, EN, FR, DE, EL, IT, JA, KO, NO, PT, RU...</td>\n",
       "      <td>34689024.0</td>\n",
       "      <td>Games</td>\n",
       "      <td>Games, Strategy, Board, Education</td>\n",
       "      <td>18/07/2008</td>\n",
       "      <td>22/07/2018</td>\n",
       "    </tr>\n",
       "  </tbody>\n",
       "</table>\n",
       "</div>"
      ],
      "text/plain": [
       "          ID           Name  Average_User_Rating  User_Rating_Count  Price  \\\n",
       "0  284921427         Sudoku                  4.0             3553.0   2.99   \n",
       "1  284926400        Reversi                  3.5              284.0   1.99   \n",
       "2  284946595        Morocco                  3.0             8376.0   0.00   \n",
       "3  285755462  Sudoku (Free)                  3.5           190394.0   0.00   \n",
       "4  285831220   Senet Deluxe                  3.5               28.0   2.99   \n",
       "\n",
       "  In-app_Purchases                                        Description  \\\n",
       "0              NaN  Join over 21,000,000 of our fans and download ...   \n",
       "1              NaN  The classic game of Reversi, also known as Oth...   \n",
       "2              NaN  Play the classic strategy game Othello (also k...   \n",
       "3              NaN  Top 100 free app for over a year.\\nRated \"Best...   \n",
       "4              NaN  \"Senet Deluxe - The Ancient Game of Life and A...   \n",
       "\n",
       "                  Developer Age_Rating  \\\n",
       "0  Mighty Mighty Good Games         4+   \n",
       "1          Kiss The Machine         4+   \n",
       "2               Bayou Games         4+   \n",
       "3  Mighty Mighty Good Games         4+   \n",
       "4           RoGame Software         4+   \n",
       "\n",
       "                                           Languages        Size  \\\n",
       "0  DA, NL, EN, FI, FR, DE, IT, JA, KO, NB, PL, PT...  15853568.0   \n",
       "1                                                 EN  12328960.0   \n",
       "2                                                 EN    674816.0   \n",
       "3  DA, NL, EN, FI, FR, DE, IT, JA, KO, NB, PL, PT...  21552128.0   \n",
       "4  DA, NL, EN, FR, DE, EL, IT, JA, KO, NO, PT, RU...  34689024.0   \n",
       "\n",
       "  Primary_Genre                             Genres Original_Release_Date  \\\n",
       "0         Games            Games, Strategy, Puzzle            11/07/2008   \n",
       "1         Games             Games, Strategy, Board            11/07/2008   \n",
       "2         Games             Games, Board, Strategy            11/07/2008   \n",
       "3         Games            Games, Strategy, Puzzle            23/07/2008   \n",
       "4         Games  Games, Strategy, Board, Education            18/07/2008   \n",
       "\n",
       "  Current_Version_Release_Date  \n",
       "0                   30/05/2017  \n",
       "1                   17/05/2018  \n",
       "2                    5/09/2017  \n",
       "3                   30/05/2017  \n",
       "4                   22/07/2018  "
      ]
     },
     "execution_count": 51,
     "metadata": {},
     "output_type": "execute_result"
    }
   ],
   "source": [
    "# читаем данные\n",
    "data = pd.read_csv('appstore_games.csv')\n",
    "# убираем ненужные колонки\n",
    "data.drop(columns = ['URL', 'Icon URL', 'Subtitle'], inplace = True)\n",
    "# меняем названия колонок для удобства\n",
    "data.columns = data.columns.str.replace(' ', '_')\n",
    "data.head()"
   ]
  },
  {
   "cell_type": "markdown",
   "id": "5c0a1f01",
   "metadata": {},
   "source": [
    "### Проведем EDA (exploratory data analysis)"
   ]
  },
  {
   "cell_type": "code",
   "execution_count": 52,
   "id": "a8217e63",
   "metadata": {},
   "outputs": [
    {
     "data": {
      "text/plain": [
       "(17007, 15)"
      ]
     },
     "execution_count": 52,
     "metadata": {},
     "output_type": "execute_result"
    }
   ],
   "source": [
    "data.shape"
   ]
  },
  {
   "cell_type": "code",
   "execution_count": 53,
   "id": "685489e9",
   "metadata": {},
   "outputs": [
    {
     "data": {
      "text/plain": [
       "ID                                int64\n",
       "Name                             object\n",
       "Average_User_Rating             float64\n",
       "User_Rating_Count               float64\n",
       "Price                           float64\n",
       "In-app_Purchases                 object\n",
       "Description                      object\n",
       "Developer                        object\n",
       "Age_Rating                       object\n",
       "Languages                        object\n",
       "Size                            float64\n",
       "Primary_Genre                    object\n",
       "Genres                           object\n",
       "Original_Release_Date            object\n",
       "Current_Version_Release_Date     object\n",
       "dtype: object"
      ]
     },
     "execution_count": 53,
     "metadata": {},
     "output_type": "execute_result"
    }
   ],
   "source": [
    "data.dtypes"
   ]
  },
  {
   "cell_type": "code",
   "execution_count": 54,
   "id": "9e2312a3",
   "metadata": {},
   "outputs": [
    {
     "data": {
      "text/html": [
       "<div>\n",
       "<style scoped>\n",
       "    .dataframe tbody tr th:only-of-type {\n",
       "        vertical-align: middle;\n",
       "    }\n",
       "\n",
       "    .dataframe tbody tr th {\n",
       "        vertical-align: top;\n",
       "    }\n",
       "\n",
       "    .dataframe thead th {\n",
       "        text-align: right;\n",
       "    }\n",
       "</style>\n",
       "<table border=\"1\" class=\"dataframe\">\n",
       "  <thead>\n",
       "    <tr style=\"text-align: right;\">\n",
       "      <th></th>\n",
       "      <th>ID</th>\n",
       "      <th>Average_User_Rating</th>\n",
       "      <th>User_Rating_Count</th>\n",
       "      <th>Price</th>\n",
       "      <th>Size</th>\n",
       "    </tr>\n",
       "  </thead>\n",
       "  <tbody>\n",
       "    <tr>\n",
       "      <th>count</th>\n",
       "      <td>1.700700e+04</td>\n",
       "      <td>7561.000000</td>\n",
       "      <td>7.561000e+03</td>\n",
       "      <td>16983.000000</td>\n",
       "      <td>1.700600e+04</td>\n",
       "    </tr>\n",
       "    <tr>\n",
       "      <th>mean</th>\n",
       "      <td>1.059614e+09</td>\n",
       "      <td>4.060905</td>\n",
       "      <td>3.306531e+03</td>\n",
       "      <td>0.813419</td>\n",
       "      <td>1.157064e+08</td>\n",
       "    </tr>\n",
       "    <tr>\n",
       "      <th>std</th>\n",
       "      <td>2.999676e+08</td>\n",
       "      <td>0.751428</td>\n",
       "      <td>4.232256e+04</td>\n",
       "      <td>7.835732</td>\n",
       "      <td>2.036477e+08</td>\n",
       "    </tr>\n",
       "    <tr>\n",
       "      <th>min</th>\n",
       "      <td>2.849214e+08</td>\n",
       "      <td>1.000000</td>\n",
       "      <td>5.000000e+00</td>\n",
       "      <td>0.000000</td>\n",
       "      <td>5.132800e+04</td>\n",
       "    </tr>\n",
       "    <tr>\n",
       "      <th>25%</th>\n",
       "      <td>8.996543e+08</td>\n",
       "      <td>3.500000</td>\n",
       "      <td>1.200000e+01</td>\n",
       "      <td>0.000000</td>\n",
       "      <td>2.295014e+07</td>\n",
       "    </tr>\n",
       "    <tr>\n",
       "      <th>50%</th>\n",
       "      <td>1.112286e+09</td>\n",
       "      <td>4.500000</td>\n",
       "      <td>4.600000e+01</td>\n",
       "      <td>0.000000</td>\n",
       "      <td>5.676895e+07</td>\n",
       "    </tr>\n",
       "    <tr>\n",
       "      <th>75%</th>\n",
       "      <td>1.286983e+09</td>\n",
       "      <td>4.500000</td>\n",
       "      <td>3.090000e+02</td>\n",
       "      <td>0.000000</td>\n",
       "      <td>1.330271e+08</td>\n",
       "    </tr>\n",
       "    <tr>\n",
       "      <th>max</th>\n",
       "      <td>1.475077e+09</td>\n",
       "      <td>5.000000</td>\n",
       "      <td>3.032734e+06</td>\n",
       "      <td>179.990000</td>\n",
       "      <td>4.005591e+09</td>\n",
       "    </tr>\n",
       "  </tbody>\n",
       "</table>\n",
       "</div>"
      ],
      "text/plain": [
       "                 ID  Average_User_Rating  User_Rating_Count         Price  \\\n",
       "count  1.700700e+04          7561.000000       7.561000e+03  16983.000000   \n",
       "mean   1.059614e+09             4.060905       3.306531e+03      0.813419   \n",
       "std    2.999676e+08             0.751428       4.232256e+04      7.835732   \n",
       "min    2.849214e+08             1.000000       5.000000e+00      0.000000   \n",
       "25%    8.996543e+08             3.500000       1.200000e+01      0.000000   \n",
       "50%    1.112286e+09             4.500000       4.600000e+01      0.000000   \n",
       "75%    1.286983e+09             4.500000       3.090000e+02      0.000000   \n",
       "max    1.475077e+09             5.000000       3.032734e+06    179.990000   \n",
       "\n",
       "               Size  \n",
       "count  1.700600e+04  \n",
       "mean   1.157064e+08  \n",
       "std    2.036477e+08  \n",
       "min    5.132800e+04  \n",
       "25%    2.295014e+07  \n",
       "50%    5.676895e+07  \n",
       "75%    1.330271e+08  \n",
       "max    4.005591e+09  "
      ]
     },
     "execution_count": 54,
     "metadata": {},
     "output_type": "execute_result"
    }
   ],
   "source": [
    "# количественные переменные\n",
    "data.describe()"
   ]
  },
  {
   "cell_type": "code",
   "execution_count": 55,
   "id": "b352cc1a",
   "metadata": {},
   "outputs": [
    {
     "data": {
      "text/html": [
       "<div>\n",
       "<style scoped>\n",
       "    .dataframe tbody tr th:only-of-type {\n",
       "        vertical-align: middle;\n",
       "    }\n",
       "\n",
       "    .dataframe tbody tr th {\n",
       "        vertical-align: top;\n",
       "    }\n",
       "\n",
       "    .dataframe thead th {\n",
       "        text-align: right;\n",
       "    }\n",
       "</style>\n",
       "<table border=\"1\" class=\"dataframe\">\n",
       "  <thead>\n",
       "    <tr style=\"text-align: right;\">\n",
       "      <th></th>\n",
       "      <th>Name</th>\n",
       "      <th>In-app_Purchases</th>\n",
       "      <th>Description</th>\n",
       "      <th>Developer</th>\n",
       "      <th>Age_Rating</th>\n",
       "      <th>Languages</th>\n",
       "      <th>Primary_Genre</th>\n",
       "      <th>Genres</th>\n",
       "      <th>Original_Release_Date</th>\n",
       "      <th>Current_Version_Release_Date</th>\n",
       "    </tr>\n",
       "  </thead>\n",
       "  <tbody>\n",
       "    <tr>\n",
       "      <th>count</th>\n",
       "      <td>17007</td>\n",
       "      <td>7683</td>\n",
       "      <td>17007</td>\n",
       "      <td>17007</td>\n",
       "      <td>17007</td>\n",
       "      <td>16947</td>\n",
       "      <td>17007</td>\n",
       "      <td>17007</td>\n",
       "      <td>17007</td>\n",
       "      <td>17007</td>\n",
       "    </tr>\n",
       "    <tr>\n",
       "      <th>unique</th>\n",
       "      <td>16847</td>\n",
       "      <td>3803</td>\n",
       "      <td>16473</td>\n",
       "      <td>8693</td>\n",
       "      <td>4</td>\n",
       "      <td>990</td>\n",
       "      <td>21</td>\n",
       "      <td>1004</td>\n",
       "      <td>3084</td>\n",
       "      <td>2512</td>\n",
       "    </tr>\n",
       "    <tr>\n",
       "      <th>top</th>\n",
       "      <td>Additions</td>\n",
       "      <td>0.99</td>\n",
       "      <td>#NAME?</td>\n",
       "      <td>Tapps Tecnologia da Informa\\xe7\\xe3o Ltda.</td>\n",
       "      <td>4+</td>\n",
       "      <td>EN</td>\n",
       "      <td>Games</td>\n",
       "      <td>Games, Strategy, Puzzle</td>\n",
       "      <td>2/09/2016</td>\n",
       "      <td>1/08/2019</td>\n",
       "    </tr>\n",
       "    <tr>\n",
       "      <th>freq</th>\n",
       "      <td>2</td>\n",
       "      <td>943</td>\n",
       "      <td>17</td>\n",
       "      <td>123</td>\n",
       "      <td>11806</td>\n",
       "      <td>12467</td>\n",
       "      <td>16286</td>\n",
       "      <td>778</td>\n",
       "      <td>75</td>\n",
       "      <td>118</td>\n",
       "    </tr>\n",
       "  </tbody>\n",
       "</table>\n",
       "</div>"
      ],
      "text/plain": [
       "             Name In-app_Purchases Description  \\\n",
       "count       17007             7683       17007   \n",
       "unique      16847             3803       16473   \n",
       "top     Additions             0.99      #NAME?   \n",
       "freq            2              943          17   \n",
       "\n",
       "                                         Developer Age_Rating Languages  \\\n",
       "count                                        17007      17007     16947   \n",
       "unique                                        8693          4       990   \n",
       "top     Tapps Tecnologia da Informa\\xe7\\xe3o Ltda.         4+        EN   \n",
       "freq                                           123      11806     12467   \n",
       "\n",
       "       Primary_Genre                   Genres Original_Release_Date  \\\n",
       "count          17007                    17007                 17007   \n",
       "unique            21                     1004                  3084   \n",
       "top            Games  Games, Strategy, Puzzle             2/09/2016   \n",
       "freq           16286                      778                    75   \n",
       "\n",
       "       Current_Version_Release_Date  \n",
       "count                         17007  \n",
       "unique                         2512  \n",
       "top                       1/08/2019  \n",
       "freq                            118  "
      ]
     },
     "execution_count": 55,
     "metadata": {},
     "output_type": "execute_result"
    }
   ],
   "source": [
    "# категориальные переменные\n",
    "data.describe(include='O')"
   ]
  },
  {
   "cell_type": "markdown",
   "id": "4c28139b",
   "metadata": {},
   "source": [
    "#### Нужно преобразовать данные и создать нужные для анализа колонки\n",
    "* Перевести в мегабайты в колонке Size\n",
    "* Перевести дату в datetype\n",
    "* Разобраться с колонкой Genres\n",
    "* Создадим колонку где отметим платная/бесплатная программа и есть/нету внутриигровых платежей\n",
    "* Колонка создания игры, приведем к началу месяца"
   ]
  },
  {
   "cell_type": "code",
   "execution_count": 286,
   "id": "918af4aa",
   "metadata": {},
   "outputs": [],
   "source": [
    "# уберем NaN из колонки User_Rating_Count\n",
    "data.User_Rating_Count = data.User_Rating_Count.fillna(0)\n"
   ]
  },
  {
   "cell_type": "code",
   "execution_count": 276,
   "id": "31a8bd3c",
   "metadata": {},
   "outputs": [],
   "source": [
    "#создадим колонку free где будем видеть платная иuра или нет\n",
    "def paid_func(data): \n",
    "    if (data['Price'] == 0):\n",
    "        return 'free'\n",
    "    else:\n",
    "        return 'not_free'\n",
    "data['free'] = data.apply(paid_func, axis = 1)\n"
   ]
  },
  {
   "cell_type": "code",
   "execution_count": 277,
   "id": "3a0204a5",
   "metadata": {},
   "outputs": [],
   "source": [
    "# убираем NaN из In-app_Purchases\n",
    "data['In-app_Purchases'].fillna(0, inplace=True)\n",
    "#создадим колонку где будем видеть есть ли внутриигровые платежи\n",
    "def paid_func(data): \n",
    "    if (data['In-app_Purchases'] == 0):\n",
    "        return 'free'\n",
    "    else:\n",
    "        return 'not_free'\n",
    "data['in_app_paid'] = data.apply(paid_func, axis = 1)"
   ]
  },
  {
   "cell_type": "code",
   "execution_count": 278,
   "id": "164295ba",
   "metadata": {},
   "outputs": [],
   "source": [
    "# приведем колонки с датами в datetime\n",
    "data[['Original_Release_Date', 'Current_Version_Release_Date'] ]= \\\n",
    "data[['Original_Release_Date', 'Current_Version_Release_Date']].apply(pd.to_datetime);"
   ]
  },
  {
   "cell_type": "code",
   "execution_count": 279,
   "id": "cd7a9af4",
   "metadata": {},
   "outputs": [],
   "source": [
    "# функция для получения даты приведенной к началу месяца\n",
    "def get_month(x):\n",
    "    return dt.datetime(x.year, x.month, 1)\n",
    "#применям функцию  \n",
    "data['invoice_month'] = data['Original_Release_Date'].apply(get_month)"
   ]
  },
  {
   "cell_type": "code",
   "execution_count": 280,
   "id": "b4feb763",
   "metadata": {},
   "outputs": [],
   "source": [
    "# делим на 100к чтобы получить мегабайты\n",
    "data['Size'] = data['Size'] / 1000000"
   ]
  },
  {
   "cell_type": "code",
   "execution_count": 281,
   "id": "d92b004e",
   "metadata": {},
   "outputs": [],
   "source": [
    "# делаем колонку где разбиваем размер приложения по корзинам (bins)\n",
    "bins= [0,40,70,100,500,4000]\n",
    "labels = ['1','2','3','4','5']\n",
    "data['size_bin'] = pd.cut(data['Size'], bins=bins, labels=labels, right=False)"
   ]
  },
  {
   "cell_type": "markdown",
   "id": "405d8b70",
   "metadata": {},
   "source": [
    "_____\n",
    "### Посмотрим самый популярный жанр"
   ]
  },
  {
   "cell_type": "code",
   "execution_count": 282,
   "id": "4541390c",
   "metadata": {},
   "outputs": [
    {
     "data": {
      "text/plain": [
       "<AxesSubplot:>"
      ]
     },
     "execution_count": 282,
     "metadata": {},
     "output_type": "execute_result"
    },
    {
     "data": {
      "image/png": "[encoded data removed]",
      "text/plain": [
       "<Figure size 1800x1000 with 1 Axes>"
      ]
     },
     "metadata": {},
     "output_type": "display_data"
    }
   ],
   "source": [
    "# смотрим жанры по популярности\n",
    "data.Primary_Genre.value_counts().plot(kind = 'bar')"
   ]
  },
  {
   "cell_type": "code",
   "execution_count": 283,
   "id": "ba5e637e",
   "metadata": {},
   "outputs": [
    {
     "data": {
      "text/plain": [
       "<AxesSubplot:>"
      ]
     },
     "execution_count": 283,
     "metadata": {},
     "output_type": "execute_result"
    },
    {
     "data": {
      "image/png": "[encoded data removed]",
      "text/plain": [
       "<Figure size 1800x1000 with 1 Axes>"
      ]
     },
     "metadata": {},
     "output_type": "display_data"
    }
   ],
   "source": [
    "# теперь без игр\n",
    "data.query('Primary_Genre != \"Games\"')['Primary_Genre'].value_counts().plot(kind = 'bar')"
   ]
  },
  {
   "cell_type": "code",
   "execution_count": 64,
   "id": "35c172cd",
   "metadata": {},
   "outputs": [
    {
     "data": {
      "text/html": [
       "<div>\n",
       "<style scoped>\n",
       "    .dataframe tbody tr th:only-of-type {\n",
       "        vertical-align: middle;\n",
       "    }\n",
       "\n",
       "    .dataframe tbody tr th {\n",
       "        vertical-align: top;\n",
       "    }\n",
       "\n",
       "    .dataframe thead th {\n",
       "        text-align: right;\n",
       "    }\n",
       "</style>\n",
       "<table border=\"1\" class=\"dataframe\">\n",
       "  <thead>\n",
       "    <tr style=\"text-align: right;\">\n",
       "      <th></th>\n",
       "      <th>ID</th>\n",
       "      <th>Name</th>\n",
       "      <th>Average_User_Rating</th>\n",
       "      <th>User_Rating_Count</th>\n",
       "      <th>Price</th>\n",
       "      <th>In-app_Purchases</th>\n",
       "      <th>Description</th>\n",
       "      <th>Developer</th>\n",
       "      <th>Age_Rating</th>\n",
       "      <th>Languages</th>\n",
       "      <th>Size</th>\n",
       "      <th>Primary_Genre</th>\n",
       "      <th>Genres</th>\n",
       "      <th>Original_Release_Date</th>\n",
       "      <th>Current_Version_Release_Date</th>\n",
       "      <th>free</th>\n",
       "      <th>in_app_paid</th>\n",
       "      <th>invoice_month</th>\n",
       "      <th>size_bin</th>\n",
       "    </tr>\n",
       "  </thead>\n",
       "  <tbody>\n",
       "    <tr>\n",
       "      <th>21</th>\n",
       "      <td>291723451</td>\n",
       "      <td>All You Can Eat</td>\n",
       "      <td>2.0</td>\n",
       "      <td>30.0</td>\n",
       "      <td>0.99</td>\n",
       "      <td>0</td>\n",
       "      <td>\"'All You Can Eat' is a very enjoyable game. I...</td>\n",
       "      <td>Armin Heinrich</td>\n",
       "      <td>9+</td>\n",
       "      <td>EN</td>\n",
       "      <td>4.341760</td>\n",
       "      <td>Entertainment</td>\n",
       "      <td>Entertainment, Games, Casual, Strategy</td>\n",
       "      <td>2008-09-24</td>\n",
       "      <td>2019-03-16</td>\n",
       "      <td>not_free</td>\n",
       "      <td>free</td>\n",
       "      <td>2008-09-01</td>\n",
       "      <td>1</td>\n",
       "    </tr>\n",
       "    <tr>\n",
       "      <th>112</th>\n",
       "      <td>318280645</td>\n",
       "      <td>Age of Conquest: Europe</td>\n",
       "      <td>3.5</td>\n",
       "      <td>267.0</td>\n",
       "      <td>3.99</td>\n",
       "      <td>0</td>\n",
       "      <td>\"European Conquest for iPad, iPhone and iPod T...</td>\n",
       "      <td>Noble Master LLC</td>\n",
       "      <td>12+</td>\n",
       "      <td>EN</td>\n",
       "      <td>39.074816</td>\n",
       "      <td>Entertainment</td>\n",
       "      <td>Entertainment, Games, Board, Strategy</td>\n",
       "      <td>2009-06-16</td>\n",
       "      <td>2018-12-10</td>\n",
       "      <td>not_free</td>\n",
       "      <td>free</td>\n",
       "      <td>2009-06-01</td>\n",
       "      <td>1</td>\n",
       "    </tr>\n",
       "    <tr>\n",
       "      <th>138</th>\n",
       "      <td>324331173</td>\n",
       "      <td>Stock Wars - Virtual Investing</td>\n",
       "      <td>3.5</td>\n",
       "      <td>3015.0</td>\n",
       "      <td>0.00</td>\n",
       "      <td>1.99</td>\n",
       "      <td>\"Stock Wars puts you in the fast paced world o...</td>\n",
       "      <td>Continuous Integration Inc.</td>\n",
       "      <td>4+</td>\n",
       "      <td>EN</td>\n",
       "      <td>10.139648</td>\n",
       "      <td>Finance</td>\n",
       "      <td>Finance, Simulation, Games, Strategy</td>\n",
       "      <td>2009-10-29</td>\n",
       "      <td>2017-11-28</td>\n",
       "      <td>free</td>\n",
       "      <td>not_free</td>\n",
       "      <td>2009-10-01</td>\n",
       "      <td>1</td>\n",
       "    </tr>\n",
       "    <tr>\n",
       "      <th>155</th>\n",
       "      <td>328415391</td>\n",
       "      <td>Yahoo Fantasy Football &amp; more</td>\n",
       "      <td>3.5</td>\n",
       "      <td>199585.0</td>\n",
       "      <td>0.00</td>\n",
       "      <td>0</td>\n",
       "      <td>\"The best in Fantasy Football, Baseball, Baske...</td>\n",
       "      <td>Yahoo</td>\n",
       "      <td>17+</td>\n",
       "      <td>AR, BN, BG, CA, HR, CS, DA, NL, EN, ET, FI, FR...</td>\n",
       "      <td>145.777664</td>\n",
       "      <td>Sports</td>\n",
       "      <td>Sports, Games, Sports, Strategy</td>\n",
       "      <td>2009-08-09</td>\n",
       "      <td>2019-07-27</td>\n",
       "      <td>free</td>\n",
       "      <td>free</td>\n",
       "      <td>2009-08-01</td>\n",
       "      <td>4</td>\n",
       "    </tr>\n",
       "    <tr>\n",
       "      <th>165</th>\n",
       "      <td>331513453</td>\n",
       "      <td>IpickMega</td>\n",
       "      <td>NaN</td>\n",
       "      <td>NaN</td>\n",
       "      <td>0.99</td>\n",
       "      <td>0</td>\n",
       "      <td>IpickMega delivers four separate random number...</td>\n",
       "      <td>Avruk, LLC</td>\n",
       "      <td>4+</td>\n",
       "      <td>EN</td>\n",
       "      <td>1.612800</td>\n",
       "      <td>Entertainment</td>\n",
       "      <td>Entertainment, Casino, Games, Strategy</td>\n",
       "      <td>2009-09-23</td>\n",
       "      <td>2017-02-16</td>\n",
       "      <td>not_free</td>\n",
       "      <td>free</td>\n",
       "      <td>2009-09-01</td>\n",
       "      <td>1</td>\n",
       "    </tr>\n",
       "  </tbody>\n",
       "</table>\n",
       "</div>"
      ],
      "text/plain": [
       "            ID                            Name  Average_User_Rating  \\\n",
       "21   291723451                 All You Can Eat                  2.0   \n",
       "112  318280645         Age of Conquest: Europe                  3.5   \n",
       "138  324331173  Stock Wars - Virtual Investing                  3.5   \n",
       "155  328415391   Yahoo Fantasy Football & more                  3.5   \n",
       "165  331513453                       IpickMega                  NaN   \n",
       "\n",
       "     User_Rating_Count  Price In-app_Purchases  \\\n",
       "21                30.0   0.99                0   \n",
       "112              267.0   3.99                0   \n",
       "138             3015.0   0.00             1.99   \n",
       "155           199585.0   0.00                0   \n",
       "165                NaN   0.99                0   \n",
       "\n",
       "                                           Description  \\\n",
       "21   \"'All You Can Eat' is a very enjoyable game. I...   \n",
       "112  \"European Conquest for iPad, iPhone and iPod T...   \n",
       "138  \"Stock Wars puts you in the fast paced world o...   \n",
       "155  \"The best in Fantasy Football, Baseball, Baske...   \n",
       "165  IpickMega delivers four separate random number...   \n",
       "\n",
       "                       Developer Age_Rating  \\\n",
       "21                Armin Heinrich         9+   \n",
       "112             Noble Master LLC        12+   \n",
       "138  Continuous Integration Inc.         4+   \n",
       "155                        Yahoo        17+   \n",
       "165                   Avruk, LLC         4+   \n",
       "\n",
       "                                             Languages        Size  \\\n",
       "21                                                  EN    4.341760   \n",
       "112                                                 EN   39.074816   \n",
       "138                                                 EN   10.139648   \n",
       "155  AR, BN, BG, CA, HR, CS, DA, NL, EN, ET, FI, FR...  145.777664   \n",
       "165                                                 EN    1.612800   \n",
       "\n",
       "     Primary_Genre                                  Genres  \\\n",
       "21   Entertainment  Entertainment, Games, Casual, Strategy   \n",
       "112  Entertainment   Entertainment, Games, Board, Strategy   \n",
       "138        Finance    Finance, Simulation, Games, Strategy   \n",
       "155         Sports         Sports, Games, Sports, Strategy   \n",
       "165  Entertainment  Entertainment, Casino, Games, Strategy   \n",
       "\n",
       "    Original_Release_Date Current_Version_Release_Date      free in_app_paid  \\\n",
       "21             2008-09-24                   2019-03-16  not_free        free   \n",
       "112            2009-06-16                   2018-12-10  not_free        free   \n",
       "138            2009-10-29                   2017-11-28      free    not_free   \n",
       "155            2009-08-09                   2019-07-27      free        free   \n",
       "165            2009-09-23                   2017-02-16  not_free        free   \n",
       "\n",
       "    invoice_month size_bin  \n",
       "21     2008-09-01        1  \n",
       "112    2009-06-01        1  \n",
       "138    2009-10-01        1  \n",
       "155    2009-08-01        4  \n",
       "165    2009-09-01        1  "
      ]
     },
     "execution_count": 64,
     "metadata": {},
     "output_type": "execute_result"
    }
   ],
   "source": [
    "data.query('Primary_Genre != \"Games\"').head()"
   ]
  },
  {
   "cell_type": "markdown",
   "id": "bdc74a43",
   "metadata": {},
   "source": [
    "Можем заметить что подавляющее большинство составляют Games, но если посмотреть на датасет и без Games, то остальные приложения составляют игры или около игровые приложения на подобие Stock Wars - Virtual Investing"
   ]
  },
  {
   "cell_type": "markdown",
   "id": "335ebb5a",
   "metadata": {},
   "source": [
    "_____\n",
    "### Посморим как будут различаться наши показатели в зависимости от того платная игра или нет\n",
    "* User_Rating_Count\n",
    "* Average_User_Rating - Number of ratings internationally, null means it is below 5"
   ]
  },
  {
   "cell_type": "code",
   "execution_count": 82,
   "id": "eb42ffc7",
   "metadata": {},
   "outputs": [
    {
     "data": {
      "text/markdown": [
       "**Срдедняя оценка пользователей**"
      ],
      "text/plain": [
       "<IPython.core.display.Markdown object>"
      ]
     },
     "metadata": {},
     "output_type": "display_data"
    },
    {
     "data": {
      "image/png": "[encoded data removed]",
      "text/plain": [
       "<Figure size 1800x1000 with 1 Axes>"
      ]
     },
     "metadata": {},
     "output_type": "display_data"
    }
   ],
   "source": [
    "bold('**Срдедняя оценка пользователей**')\n",
    "plt.rcParams['figure.figsize'] = (18, 10)\n",
    "ax = sns.countplot(data = data, x ='Average_User_Rating', palette = 'gray', alpha = 0.7, linewidth=4, edgecolor= 'black')\n",
    "ax.set_ylabel('Count', fontsize = 20)\n",
    "ax.set_xlabel('Average_User_Rating', fontsize = 20)\n",
    "plt.show()"
   ]
  },
  {
   "cell_type": "markdown",
   "id": "ae5e5450",
   "metadata": {},
   "source": [
    "Очень мало игр с оценкой 1-3, большинство получили 4-4.5, игр с 5 баллами столько же, сколько и с 3.5"
   ]
  },
  {
   "cell_type": "code",
   "execution_count": 48,
   "id": "59ec4f90",
   "metadata": {},
   "outputs": [
    {
     "data": {
      "text/html": [
       "<div>\n",
       "<style scoped>\n",
       "    .dataframe tbody tr th:only-of-type {\n",
       "        vertical-align: middle;\n",
       "    }\n",
       "\n",
       "    .dataframe tbody tr th {\n",
       "        vertical-align: top;\n",
       "    }\n",
       "\n",
       "    .dataframe thead th {\n",
       "        text-align: right;\n",
       "    }\n",
       "</style>\n",
       "<table border=\"1\" class=\"dataframe\">\n",
       "  <thead>\n",
       "    <tr style=\"text-align: right;\">\n",
       "      <th></th>\n",
       "      <th>free</th>\n",
       "      <th>in_app_paid</th>\n",
       "      <th>mean</th>\n",
       "      <th>median</th>\n",
       "      <th>count</th>\n",
       "    </tr>\n",
       "  </thead>\n",
       "  <tbody>\n",
       "    <tr>\n",
       "      <th>0</th>\n",
       "      <td>free</td>\n",
       "      <td>free</td>\n",
       "      <td>3.898505</td>\n",
       "      <td>4.0</td>\n",
       "      <td>2074</td>\n",
       "    </tr>\n",
       "    <tr>\n",
       "      <th>1</th>\n",
       "      <td>free</td>\n",
       "      <td>not_free</td>\n",
       "      <td>4.155493</td>\n",
       "      <td>4.5</td>\n",
       "      <td>4251</td>\n",
       "    </tr>\n",
       "    <tr>\n",
       "      <th>2</th>\n",
       "      <td>not_free</td>\n",
       "      <td>free</td>\n",
       "      <td>3.963658</td>\n",
       "      <td>4.0</td>\n",
       "      <td>853</td>\n",
       "    </tr>\n",
       "    <tr>\n",
       "      <th>3</th>\n",
       "      <td>not_free</td>\n",
       "      <td>not_free</td>\n",
       "      <td>4.107050</td>\n",
       "      <td>4.5</td>\n",
       "      <td>383</td>\n",
       "    </tr>\n",
       "  </tbody>\n",
       "</table>\n",
       "</div>"
      ],
      "text/plain": [
       "       free in_app_paid      mean  median  count\n",
       "0      free        free  3.898505     4.0   2074\n",
       "1      free    not_free  4.155493     4.5   4251\n",
       "2  not_free        free  3.963658     4.0    853\n",
       "3  not_free    not_free  4.107050     4.5    383"
      ]
     },
     "execution_count": 48,
     "metadata": {},
     "output_type": "execute_result"
    }
   ],
   "source": [
    "# группировка по платности игры , счтиаем среднее, медиану и кол-во Average_User_Rating\n",
    "data.groupby(['free','in_app_paid'])['Average_User_Rating'].agg(['mean', 'median','count']).reset_index()"
   ]
  },
  {
   "cell_type": "code",
   "execution_count": 284,
   "id": "e0b35a2b",
   "metadata": {},
   "outputs": [
    {
     "data": {
      "text/html": [
       "<div>\n",
       "<style scoped>\n",
       "    .dataframe tbody tr th:only-of-type {\n",
       "        vertical-align: middle;\n",
       "    }\n",
       "\n",
       "    .dataframe tbody tr th {\n",
       "        vertical-align: top;\n",
       "    }\n",
       "\n",
       "    .dataframe thead th {\n",
       "        text-align: right;\n",
       "    }\n",
       "</style>\n",
       "<table border=\"1\" class=\"dataframe\">\n",
       "  <thead>\n",
       "    <tr style=\"text-align: right;\">\n",
       "      <th></th>\n",
       "      <th>free</th>\n",
       "      <th>in_app_paid</th>\n",
       "      <th>mean</th>\n",
       "      <th>median</th>\n",
       "      <th>count</th>\n",
       "    </tr>\n",
       "  </thead>\n",
       "  <tbody>\n",
       "    <tr>\n",
       "      <th>0</th>\n",
       "      <td>free</td>\n",
       "      <td>free</td>\n",
       "      <td>313.203033</td>\n",
       "      <td>0.0</td>\n",
       "      <td>7122</td>\n",
       "    </tr>\n",
       "    <tr>\n",
       "      <th>1</th>\n",
       "      <td>free</td>\n",
       "      <td>not_free</td>\n",
       "      <td>2898.464598</td>\n",
       "      <td>10.0</td>\n",
       "      <td>7090</td>\n",
       "    </tr>\n",
       "    <tr>\n",
       "      <th>2</th>\n",
       "      <td>not_free</td>\n",
       "      <td>free</td>\n",
       "      <td>431.276113</td>\n",
       "      <td>0.0</td>\n",
       "      <td>2202</td>\n",
       "    </tr>\n",
       "    <tr>\n",
       "      <th>3</th>\n",
       "      <td>not_free</td>\n",
       "      <td>not_free</td>\n",
       "      <td>2142.102867</td>\n",
       "      <td>27.0</td>\n",
       "      <td>593</td>\n",
       "    </tr>\n",
       "  </tbody>\n",
       "</table>\n",
       "</div>"
      ],
      "text/plain": [
       "       free in_app_paid         mean  median  count\n",
       "0      free        free   313.203033     0.0   7122\n",
       "1      free    not_free  2898.464598    10.0   7090\n",
       "2  not_free        free   431.276113     0.0   2202\n",
       "3  not_free    not_free  2142.102867    27.0    593"
      ]
     },
     "execution_count": 284,
     "metadata": {},
     "output_type": "execute_result"
    }
   ],
   "source": [
    "# группировка по платности игры , счтиаем среднее, медиану и кол-во User_Rating_Count\n",
    "data.groupby(['free','in_app_paid'])['User_Rating_Count'].agg(['mean', 'median','count']).reset_index()"
   ]
  },
  {
   "cell_type": "markdown",
   "id": "fa6155fb",
   "metadata": {},
   "source": [
    "Выводы по группировке:\n",
    "* На Average_User_Rating практически никак не влияет платная игра или нет и есть ли внутриигровые платежи\n",
    "* На User_Rating_Count в первую очередь сильно влияет внутриигровые платежи. Люди лучше относятся к игре, если там есть внутриигровые транзакции\n",
    "    * Предложение бесплатных игр с внутриигровыми платежами в 2 раза больше, чем полностью бесплатных (что логично)\n",
    "    * Полностью бесплатные игры получают среднюю оценку в 4.5 раза ниже, чем бесплатные игры с внутриигровыми. (предполагаю что это из-за встроенной рекламы в полность бесплатные игры)\n",
    "    * Полностью бесплатные игры получают самый низкий рейтинг как по медиане, так и по средним оценкам\n",
    "    * Полностью платные игры присутствуют намного реже остальных, но у них самые высокие рейтинги по медиане и вторые по средней оценке полсле платных и внутриигровыми"
   ]
  },
  {
   "cell_type": "markdown",
   "id": "b2856c11",
   "metadata": {},
   "source": [
    "______\n",
    "### Посмотрим на оценки в зависимости от возрастного рейтинга"
   ]
  },
  {
   "cell_type": "code",
   "execution_count": 109,
   "id": "faa9968d",
   "metadata": {},
   "outputs": [
    {
     "data": {
      "text/markdown": [
       "**Кол-во игр в зависимости от возрастного рейтинга**"
      ],
      "text/plain": [
       "<IPython.core.display.Markdown object>"
      ]
     },
     "metadata": {},
     "output_type": "display_data"
    },
    {
     "data": {
      "image/png": "[encoded data removed]",
      "text/plain": [
       "<Figure size 1800x1000 with 1 Axes>"
      ]
     },
     "metadata": {},
     "output_type": "display_data"
    }
   ],
   "source": [
    "bold('**Кол-во игр в зависимости от возрастного рейтинга**')\n",
    "data.Age_Rating.value_counts().plot(kind = \"bar\");"
   ]
  },
  {
   "cell_type": "code",
   "execution_count": 287,
   "id": "be790c03",
   "metadata": {},
   "outputs": [
    {
     "data": {
      "text/markdown": [
       "**Зависимость age_rating и Average_User_Rating**"
      ],
      "text/plain": [
       "<IPython.core.display.Markdown object>"
      ]
     },
     "metadata": {},
     "output_type": "display_data"
    },
    {
     "name": "stderr",
     "output_type": "stream",
     "text": [
      "/opt/anaconda3/lib/python3.9/site-packages/seaborn/axisgrid.py:670: UserWarning: Using the countplot function without specifying `order` is likely to produce an incorrect plot.\n",
      "  warnings.warn(warning)\n"
     ]
    },
    {
     "data": {
      "image/png": "[encoded data removed]",
      "text/plain": [
       "<Figure size 2400x1200 with 4 Axes>"
      ]
     },
     "metadata": {},
     "output_type": "display_data"
    }
   ],
   "source": [
    "bold('**Зависимость age_rating и Average_User_Rating**')\n",
    "ax = sns.FacetGrid(data, col=\"Age_Rating\", col_wrap=2, height=6, aspect=2,  sharex=False)\n",
    "ax.map(sns.countplot, 'Average_User_Rating', color=\"teal\", alpha = 0.7, linewidth=4, edgecolor= 'black')\n",
    "plt.subplots_adjust(hspace=0.45)\n",
    "plt.show();"
   ]
  },
  {
   "cell_type": "markdown",
   "id": "f6f9e71a",
   "metadata": {},
   "source": [
    "### Вывод: \n",
    "* Подавляющее кол-во игр для 4+ лет\n",
    "* Тенденция на оценки везде одинаковая, поэтому вывод - возрастной рейтинг не влияет на оценки"
   ]
  },
  {
   "cell_type": "code",
   "execution_count": 122,
   "id": "bad50461",
   "metadata": {},
   "outputs": [
    {
     "data": {
      "text/markdown": [
       "**Зависимость age_rating и среднего кол-ва оценок**"
      ],
      "text/plain": [
       "<IPython.core.display.Markdown object>"
      ]
     },
     "metadata": {},
     "output_type": "display_data"
    },
    {
     "data": {
      "image/png": "[encoded data removed]",
      "text/plain": [
       "<Figure size 1800x1000 with 1 Axes>"
      ]
     },
     "metadata": {},
     "output_type": "display_data"
    }
   ],
   "source": [
    "bold('**Зависимость age_rating и среднего кол-ва оценок**')\n",
    "data.groupby('Age_Rating')['User_Rating_Count'].mean().plot(kind = 'bar');"
   ]
  },
  {
   "cell_type": "code",
   "execution_count": 123,
   "id": "009b1ae8",
   "metadata": {},
   "outputs": [
    {
     "data": {
      "text/html": [
       "<div>\n",
       "<style scoped>\n",
       "    .dataframe tbody tr th:only-of-type {\n",
       "        vertical-align: middle;\n",
       "    }\n",
       "\n",
       "    .dataframe tbody tr th {\n",
       "        vertical-align: top;\n",
       "    }\n",
       "\n",
       "    .dataframe thead th {\n",
       "        text-align: right;\n",
       "    }\n",
       "</style>\n",
       "<table border=\"1\" class=\"dataframe\">\n",
       "  <thead>\n",
       "    <tr style=\"text-align: right;\">\n",
       "      <th></th>\n",
       "      <th>Age_Rating</th>\n",
       "      <th>mean</th>\n",
       "      <th>median</th>\n",
       "      <th>count</th>\n",
       "    </tr>\n",
       "  </thead>\n",
       "  <tbody>\n",
       "    <tr>\n",
       "      <th>0</th>\n",
       "      <td>12+</td>\n",
       "      <td>3473.691673</td>\n",
       "      <td>104.0</td>\n",
       "      <td>1333</td>\n",
       "    </tr>\n",
       "    <tr>\n",
       "      <th>1</th>\n",
       "      <td>17+</td>\n",
       "      <td>5862.698962</td>\n",
       "      <td>35.0</td>\n",
       "      <td>289</td>\n",
       "    </tr>\n",
       "    <tr>\n",
       "      <th>2</th>\n",
       "      <td>4+</td>\n",
       "      <td>1823.093575</td>\n",
       "      <td>32.0</td>\n",
       "      <td>4467</td>\n",
       "    </tr>\n",
       "    <tr>\n",
       "      <th>3</th>\n",
       "      <td>9+</td>\n",
       "      <td>7155.008832</td>\n",
       "      <td>72.5</td>\n",
       "      <td>1472</td>\n",
       "    </tr>\n",
       "  </tbody>\n",
       "</table>\n",
       "</div>"
      ],
      "text/plain": [
       "  Age_Rating         mean  median  count\n",
       "0        12+  3473.691673   104.0   1333\n",
       "1        17+  5862.698962    35.0    289\n",
       "2         4+  1823.093575    32.0   4467\n",
       "3         9+  7155.008832    72.5   1472"
      ]
     },
     "execution_count": 123,
     "metadata": {},
     "output_type": "execute_result"
    }
   ],
   "source": [
    "data.groupby('Age_Rating')['User_Rating_Count'].agg(['mean', 'median','count']).reset_index()"
   ]
  },
  {
   "cell_type": "markdown",
   "id": "66e47b22",
   "metadata": {},
   "source": [
    "### Вывод:\n",
    "* Самое низкое среднее и медианное кол-во оценок в 4+\n",
    "* Самое высокое с отрывом 9+\n",
    "* Самая высокая медиана 12+"
   ]
  },
  {
   "cell_type": "markdown",
   "id": "d546ea9e",
   "metadata": {},
   "source": [
    "______\n",
    "### Посмотрим на динамику выпускамых игр в год"
   ]
  },
  {
   "cell_type": "code",
   "execution_count": 288,
   "id": "828da83c",
   "metadata": {},
   "outputs": [
    {
     "data": {
      "text/markdown": [
       "**Диаграмма релиза новых игр**"
      ],
      "text/plain": [
       "<IPython.core.display.Markdown object>"
      ]
     },
     "metadata": {},
     "output_type": "display_data"
    },
    {
     "data": {
      "image/png": "[encoded data removed]",
      "text/plain": [
       "<Figure size 1800x1000 with 1 Axes>"
      ]
     },
     "metadata": {},
     "output_type": "display_data"
    }
   ],
   "source": [
    "bold('**Диаграмма релиза новых игр**')\n",
    "data.Original_Release_Date.hist();"
   ]
  },
  {
   "cell_type": "markdown",
   "id": "d1ee2913",
   "metadata": {},
   "source": [
    "Может есть разница в какой месяц выпускать игру?"
   ]
  },
  {
   "cell_type": "code",
   "execution_count": 289,
   "id": "b4dc763d",
   "metadata": {},
   "outputs": [],
   "source": [
    "# получим название месяца\n",
    "data['order_month'] = data['Original_Release_Date'].dt.month_name() \n"
   ]
  },
  {
   "cell_type": "code",
   "execution_count": 303,
   "id": "58be7b88",
   "metadata": {},
   "outputs": [
    {
     "data": {
      "text/markdown": [
       "**Кол-во выпускаемых новых игр по месяцам**"
      ],
      "text/plain": [
       "<IPython.core.display.Markdown object>"
      ]
     },
     "metadata": {},
     "output_type": "display_data"
    },
    {
     "data": {
      "text/plain": [
       "<AxesSubplot:xlabel='order_month'>"
      ]
     },
     "execution_count": 303,
     "metadata": {},
     "output_type": "execute_result"
    },
    {
     "data": {
      "image/png": "[encoded data removed]",
      "text/plain": [
       "<Figure size 1800x1000 with 1 Axes>"
      ]
     },
     "metadata": {},
     "output_type": "display_data"
    }
   ],
   "source": [
    "bold('**Кол-во выпускаемых новых игр по месяцам**')\n",
    "data.groupby('order_month').Name.count().plot(kind = 'bar');"
   ]
  },
  {
   "cell_type": "markdown",
   "id": "02e6f526",
   "metadata": {},
   "source": [
    "Выпуск не зависит от месяца. Посмотрим влияет ли месяц на популярность игры"
   ]
  },
  {
   "cell_type": "code",
   "execution_count": 307,
   "id": "0e498d15",
   "metadata": {},
   "outputs": [
    {
     "data": {
      "text/html": [
       "<div>\n",
       "<style scoped>\n",
       "    .dataframe tbody tr th:only-of-type {\n",
       "        vertical-align: middle;\n",
       "    }\n",
       "\n",
       "    .dataframe tbody tr th {\n",
       "        vertical-align: top;\n",
       "    }\n",
       "\n",
       "    .dataframe thead th {\n",
       "        text-align: right;\n",
       "    }\n",
       "</style>\n",
       "<table border=\"1\" class=\"dataframe\">\n",
       "  <thead>\n",
       "    <tr style=\"text-align: right;\">\n",
       "      <th></th>\n",
       "      <th>mean</th>\n",
       "      <th>count</th>\n",
       "    </tr>\n",
       "    <tr>\n",
       "      <th>order_month</th>\n",
       "      <th></th>\n",
       "      <th></th>\n",
       "    </tr>\n",
       "  </thead>\n",
       "  <tbody>\n",
       "    <tr>\n",
       "      <th>April</th>\n",
       "      <td>912.968000</td>\n",
       "      <td>1500</td>\n",
       "    </tr>\n",
       "    <tr>\n",
       "      <th>August</th>\n",
       "      <td>1645.264550</td>\n",
       "      <td>1323</td>\n",
       "    </tr>\n",
       "    <tr>\n",
       "      <th>December</th>\n",
       "      <td>1524.339310</td>\n",
       "      <td>1450</td>\n",
       "    </tr>\n",
       "    <tr>\n",
       "      <th>February</th>\n",
       "      <td>4079.103935</td>\n",
       "      <td>1347</td>\n",
       "    </tr>\n",
       "    <tr>\n",
       "      <th>January</th>\n",
       "      <td>991.132310</td>\n",
       "      <td>1368</td>\n",
       "    </tr>\n",
       "    <tr>\n",
       "      <th>July</th>\n",
       "      <td>1368.357853</td>\n",
       "      <td>1509</td>\n",
       "    </tr>\n",
       "    <tr>\n",
       "      <th>June</th>\n",
       "      <td>1184.579228</td>\n",
       "      <td>1502</td>\n",
       "    </tr>\n",
       "    <tr>\n",
       "      <th>March</th>\n",
       "      <td>1244.053981</td>\n",
       "      <td>1482</td>\n",
       "    </tr>\n",
       "    <tr>\n",
       "      <th>May</th>\n",
       "      <td>1221.588652</td>\n",
       "      <td>1410</td>\n",
       "    </tr>\n",
       "    <tr>\n",
       "      <th>November</th>\n",
       "      <td>1381.962991</td>\n",
       "      <td>1324</td>\n",
       "    </tr>\n",
       "    <tr>\n",
       "      <th>October</th>\n",
       "      <td>992.090077</td>\n",
       "      <td>1421</td>\n",
       "    </tr>\n",
       "    <tr>\n",
       "      <th>September</th>\n",
       "      <td>1272.162655</td>\n",
       "      <td>1371</td>\n",
       "    </tr>\n",
       "  </tbody>\n",
       "</table>\n",
       "</div>"
      ],
      "text/plain": [
       "                    mean  count\n",
       "order_month                    \n",
       "April         912.968000   1500\n",
       "August       1645.264550   1323\n",
       "December     1524.339310   1450\n",
       "February     4079.103935   1347\n",
       "January       991.132310   1368\n",
       "July         1368.357853   1509\n",
       "June         1184.579228   1502\n",
       "March        1244.053981   1482\n",
       "May          1221.588652   1410\n",
       "November     1381.962991   1324\n",
       "October       992.090077   1421\n",
       "September    1272.162655   1371"
      ]
     },
     "execution_count": 307,
     "metadata": {},
     "output_type": "execute_result"
    }
   ],
   "source": [
    "data.groupby('order_month')['User_Rating_Count'].agg(['mean', 'count'])"
   ]
  },
  {
   "cell_type": "markdown",
   "id": "99521010",
   "metadata": {},
   "source": [
    "Вот здесь интересный момент, 'февральские' игры получают намного больше отзывов чем остальные. Посмотрим топ 10 дропов игр в феврале"
   ]
  },
  {
   "cell_type": "code",
   "execution_count": 300,
   "id": "26308652",
   "metadata": {},
   "outputs": [
    {
     "data": {
      "text/plain": [
       "Name\n",
       "Clash of Clans                          3032734.0\n",
       "Clash Royale                            1277095.0\n",
       "Hidden Objects: Gardens of Time          134595.0\n",
       "Farm Story\\u2122                         129759.0\n",
       "Fire Emblem Heroes                       120283.0\n",
       "Wedding Dash                             101209.0\n",
       "Catcha Mouse                              95971.0\n",
       "RollerCoaster Tycoon\\xae Touch\\u2122      59993.0\n",
       "Infection Bio War                         44275.0\n",
       "Zombie Tower Shooting Defense             32964.0\n",
       "Name: User_Rating_Count, dtype: float64"
      ]
     },
     "execution_count": 300,
     "metadata": {},
     "output_type": "execute_result"
    }
   ],
   "source": [
    "data.query('order_month == \"February\"').groupby('Name')['User_Rating_Count'].sum().nlargest(10)"
   ]
  },
  {
   "cell_type": "markdown",
   "id": "e1e11c2f",
   "metadata": {},
   "source": [
    "Нашли Clash of Clans и Clash Royale, одни из самых популярных игр. Попробуем их убрать и посмотреть что получится"
   ]
  },
  {
   "cell_type": "code",
   "execution_count": 302,
   "id": "709fb8a3",
   "metadata": {},
   "outputs": [
    {
     "data": {
      "text/html": [
       "<div>\n",
       "<style scoped>\n",
       "    .dataframe tbody tr th:only-of-type {\n",
       "        vertical-align: middle;\n",
       "    }\n",
       "\n",
       "    .dataframe tbody tr th {\n",
       "        vertical-align: top;\n",
       "    }\n",
       "\n",
       "    .dataframe thead th {\n",
       "        text-align: right;\n",
       "    }\n",
       "</style>\n",
       "<table border=\"1\" class=\"dataframe\">\n",
       "  <thead>\n",
       "    <tr style=\"text-align: right;\">\n",
       "      <th></th>\n",
       "      <th>mean</th>\n",
       "      <th>count</th>\n",
       "    </tr>\n",
       "    <tr>\n",
       "      <th>order_month</th>\n",
       "      <th></th>\n",
       "      <th></th>\n",
       "    </tr>\n",
       "  </thead>\n",
       "  <tbody>\n",
       "    <tr>\n",
       "      <th>April</th>\n",
       "      <td>912.968000</td>\n",
       "      <td>1500</td>\n",
       "    </tr>\n",
       "    <tr>\n",
       "      <th>August</th>\n",
       "      <td>1645.264550</td>\n",
       "      <td>1323</td>\n",
       "    </tr>\n",
       "    <tr>\n",
       "      <th>December</th>\n",
       "      <td>1524.339310</td>\n",
       "      <td>1450</td>\n",
       "    </tr>\n",
       "    <tr>\n",
       "      <th>February</th>\n",
       "      <td>3133.326895</td>\n",
       "      <td>1346</td>\n",
       "    </tr>\n",
       "    <tr>\n",
       "      <th>January</th>\n",
       "      <td>991.132310</td>\n",
       "      <td>1368</td>\n",
       "    </tr>\n",
       "    <tr>\n",
       "      <th>July</th>\n",
       "      <td>1368.357853</td>\n",
       "      <td>1509</td>\n",
       "    </tr>\n",
       "    <tr>\n",
       "      <th>June</th>\n",
       "      <td>1184.579228</td>\n",
       "      <td>1502</td>\n",
       "    </tr>\n",
       "    <tr>\n",
       "      <th>March</th>\n",
       "      <td>1244.053981</td>\n",
       "      <td>1482</td>\n",
       "    </tr>\n",
       "    <tr>\n",
       "      <th>May</th>\n",
       "      <td>1221.588652</td>\n",
       "      <td>1410</td>\n",
       "    </tr>\n",
       "    <tr>\n",
       "      <th>November</th>\n",
       "      <td>1381.962991</td>\n",
       "      <td>1324</td>\n",
       "    </tr>\n",
       "    <tr>\n",
       "      <th>October</th>\n",
       "      <td>992.090077</td>\n",
       "      <td>1421</td>\n",
       "    </tr>\n",
       "    <tr>\n",
       "      <th>September</th>\n",
       "      <td>1272.162655</td>\n",
       "      <td>1371</td>\n",
       "    </tr>\n",
       "  </tbody>\n",
       "</table>\n",
       "</div>"
      ],
      "text/plain": [
       "                    mean  count\n",
       "order_month                    \n",
       "April         912.968000   1500\n",
       "August       1645.264550   1323\n",
       "December     1524.339310   1450\n",
       "February     3133.326895   1346\n",
       "January       991.132310   1368\n",
       "July         1368.357853   1509\n",
       "June         1184.579228   1502\n",
       "March        1244.053981   1482\n",
       "May          1221.588652   1410\n",
       "November     1381.962991   1324\n",
       "October       992.090077   1421\n",
       "September    1272.162655   1371"
      ]
     },
     "execution_count": 302,
     "metadata": {},
     "output_type": "execute_result"
    }
   ],
   "source": [
    "data.query('Name != \"Clash of Clans \" & Name != \"Clash Royale\"').groupby('order_month')['User_Rating_Count'].agg(['mean', 'count'])"
   ]
  },
  {
   "cell_type": "markdown",
   "id": "58014549",
   "metadata": {},
   "source": [
    "Все равно февраль сильно выделяется на фоне остальных месяцев"
   ]
  },
  {
   "cell_type": "markdown",
   "id": "b67ee602",
   "metadata": {},
   "source": [
    "#### Выводы: \n",
    "* Кол-во выпускаемых игр сильно росло до 2017г\n",
    "* К 2020г кол-во выпускаемых игр упало до уровня 2015г\n",
    "* Игры выпущеные в феврале собрали намного больше отзывов"
   ]
  },
  {
   "cell_type": "markdown",
   "id": "0b35ab49",
   "metadata": {},
   "source": [
    "_____\n",
    "### Посмотрим кол-во игр в разбивке по размеру\n",
    "#### Bins (в мегабайтах):\n",
    "    1.0-40\n",
    "    2.40-70\n",
    "    3.70-100\n",
    "    4.100-500\n",
    "    5.500-4000"
   ]
  },
  {
   "cell_type": "code",
   "execution_count": 148,
   "id": "1d71f691",
   "metadata": {},
   "outputs": [
    {
     "data": {
      "text/plain": [
       "<AxesSubplot:xlabel='size_bin'>"
      ]
     },
     "execution_count": 148,
     "metadata": {},
     "output_type": "execute_result"
    },
    {
     "data": {
      "image/png": "[encoded data removed]",
      "text/plain": [
       "<Figure size 1800x1000 with 1 Axes>"
      ]
     },
     "metadata": {},
     "output_type": "display_data"
    }
   ],
   "source": [
    "data.groupby('size_bin').Name.count().plot(kind = 'bar')"
   ]
  },
  {
   "cell_type": "markdown",
   "id": "d95d4ab4",
   "metadata": {},
   "source": [
    "Разобьем по size и посчитаем срединий и медианный кол-во отзывов"
   ]
  },
  {
   "cell_type": "code",
   "execution_count": 156,
   "id": "9f87dfa2",
   "metadata": {},
   "outputs": [
    {
     "data": {
      "text/markdown": [
       "**User_Rating_Count в зависимости от размера**"
      ],
      "text/plain": [
       "<IPython.core.display.Markdown object>"
      ]
     },
     "metadata": {},
     "output_type": "display_data"
    },
    {
     "data": {
      "text/html": [
       "<div>\n",
       "<style scoped>\n",
       "    .dataframe tbody tr th:only-of-type {\n",
       "        vertical-align: middle;\n",
       "    }\n",
       "\n",
       "    .dataframe tbody tr th {\n",
       "        vertical-align: top;\n",
       "    }\n",
       "\n",
       "    .dataframe thead th {\n",
       "        text-align: right;\n",
       "    }\n",
       "</style>\n",
       "<table border=\"1\" class=\"dataframe\">\n",
       "  <thead>\n",
       "    <tr style=\"text-align: right;\">\n",
       "      <th></th>\n",
       "      <th>mean</th>\n",
       "      <th>median</th>\n",
       "      <th>count</th>\n",
       "    </tr>\n",
       "    <tr>\n",
       "      <th>size_bin</th>\n",
       "      <th></th>\n",
       "      <th></th>\n",
       "      <th></th>\n",
       "    </tr>\n",
       "  </thead>\n",
       "  <tbody>\n",
       "    <tr>\n",
       "      <th>1</th>\n",
       "      <td>1103.620851</td>\n",
       "      <td>24.0</td>\n",
       "      <td>2350</td>\n",
       "    </tr>\n",
       "    <tr>\n",
       "      <th>2</th>\n",
       "      <td>1738.729895</td>\n",
       "      <td>42.5</td>\n",
       "      <td>1144</td>\n",
       "    </tr>\n",
       "    <tr>\n",
       "      <th>3</th>\n",
       "      <td>1528.070671</td>\n",
       "      <td>48.0</td>\n",
       "      <td>849</td>\n",
       "    </tr>\n",
       "    <tr>\n",
       "      <th>4</th>\n",
       "      <td>6014.334740</td>\n",
       "      <td>80.5</td>\n",
       "      <td>2844</td>\n",
       "    </tr>\n",
       "    <tr>\n",
       "      <th>5</th>\n",
       "      <td>5403.973190</td>\n",
       "      <td>158.0</td>\n",
       "      <td>373</td>\n",
       "    </tr>\n",
       "  </tbody>\n",
       "</table>\n",
       "</div>"
      ],
      "text/plain": [
       "                 mean  median  count\n",
       "size_bin                            \n",
       "1         1103.620851    24.0   2350\n",
       "2         1738.729895    42.5   1144\n",
       "3         1528.070671    48.0    849\n",
       "4         6014.334740    80.5   2844\n",
       "5         5403.973190   158.0    373"
      ]
     },
     "execution_count": 156,
     "metadata": {},
     "output_type": "execute_result"
    }
   ],
   "source": [
    "bold('**User_Rating_Count в зависимости от размера**')\n",
    "data.groupby('size_bin')['User_Rating_Count'].agg(['mean','median','count'])"
   ]
  },
  {
   "cell_type": "code",
   "execution_count": 157,
   "id": "03874f70",
   "metadata": {},
   "outputs": [
    {
     "data": {
      "text/markdown": [
       "**Average_User_Rating в зависимости от размера**"
      ],
      "text/plain": [
       "<IPython.core.display.Markdown object>"
      ]
     },
     "metadata": {},
     "output_type": "display_data"
    },
    {
     "data": {
      "text/html": [
       "<div>\n",
       "<style scoped>\n",
       "    .dataframe tbody tr th:only-of-type {\n",
       "        vertical-align: middle;\n",
       "    }\n",
       "\n",
       "    .dataframe tbody tr th {\n",
       "        vertical-align: top;\n",
       "    }\n",
       "\n",
       "    .dataframe thead th {\n",
       "        text-align: right;\n",
       "    }\n",
       "</style>\n",
       "<table border=\"1\" class=\"dataframe\">\n",
       "  <thead>\n",
       "    <tr style=\"text-align: right;\">\n",
       "      <th></th>\n",
       "      <th>mean</th>\n",
       "      <th>median</th>\n",
       "      <th>count</th>\n",
       "    </tr>\n",
       "    <tr>\n",
       "      <th>size_bin</th>\n",
       "      <th></th>\n",
       "      <th></th>\n",
       "      <th></th>\n",
       "    </tr>\n",
       "  </thead>\n",
       "  <tbody>\n",
       "    <tr>\n",
       "      <th>1</th>\n",
       "      <td>3.877872</td>\n",
       "      <td>4.0</td>\n",
       "      <td>2350</td>\n",
       "    </tr>\n",
       "    <tr>\n",
       "      <th>2</th>\n",
       "      <td>4.084790</td>\n",
       "      <td>4.5</td>\n",
       "      <td>1144</td>\n",
       "    </tr>\n",
       "    <tr>\n",
       "      <th>3</th>\n",
       "      <td>4.160777</td>\n",
       "      <td>4.5</td>\n",
       "      <td>849</td>\n",
       "    </tr>\n",
       "    <tr>\n",
       "      <th>4</th>\n",
       "      <td>4.159810</td>\n",
       "      <td>4.5</td>\n",
       "      <td>2844</td>\n",
       "    </tr>\n",
       "    <tr>\n",
       "      <th>5</th>\n",
       "      <td>4.158177</td>\n",
       "      <td>4.5</td>\n",
       "      <td>373</td>\n",
       "    </tr>\n",
       "  </tbody>\n",
       "</table>\n",
       "</div>"
      ],
      "text/plain": [
       "              mean  median  count\n",
       "size_bin                         \n",
       "1         3.877872     4.0   2350\n",
       "2         4.084790     4.5   1144\n",
       "3         4.160777     4.5    849\n",
       "4         4.159810     4.5   2844\n",
       "5         4.158177     4.5    373"
      ]
     },
     "execution_count": 157,
     "metadata": {},
     "output_type": "execute_result"
    }
   ],
   "source": [
    "bold('**Average_User_Rating в зависимости от размера**')\n",
    "data.groupby('size_bin')['Average_User_Rating'].agg(['mean','median','count'])"
   ]
  },
  {
   "cell_type": "markdown",
   "id": "50979dd0",
   "metadata": {},
   "source": [
    "Выводы:\n",
    "* Самый большое кол-во игр приходится на size_bin - 0-40 и 100-500 мегабайт\n",
    "* Самое маленькое среднее и медианное кол-во отзывов приходится на size_bin - 0-40\n",
    "* Чем больше размер игры - тем охотнее люди оставляют отзывы\n",
    "* Average_User_Rating как и прежде не особо что-то показывает"
   ]
  },
  {
   "cell_type": "markdown",
   "id": "9a0b8714",
   "metadata": {},
   "source": [
    "_______\n",
    "### Посмотрим какой разарботчик самый популярный"
   ]
  },
  {
   "cell_type": "code",
   "execution_count": 172,
   "id": "c2d0fd42",
   "metadata": {},
   "outputs": [
    {
     "data": {
      "text/markdown": [
       "**Топ 10 разарботчиков по User_Rating_Count**"
      ],
      "text/plain": [
       "<IPython.core.display.Markdown object>"
      ]
     },
     "metadata": {},
     "output_type": "display_data"
    },
    {
     "data": {
      "image/png": "[encoded data removed]",
      "text/plain": [
       "<Figure size 1800x1000 with 1 Axes>"
      ]
     },
     "metadata": {},
     "output_type": "display_data"
    }
   ],
   "source": [
    "bold('**Топ 10 разарботчиков по User_Rating_Count**')\n",
    "data.groupby('Developer')['User_Rating_Count'].mean().nlargest(10).plot(kind = 'bar');"
   ]
  },
  {
   "cell_type": "code",
   "execution_count": 221,
   "id": "4927e63d",
   "metadata": {},
   "outputs": [
    {
     "data": {
      "text/markdown": [
       "**Топ 10 разарботчиков по User_Rating_Count**"
      ],
      "text/plain": [
       "<IPython.core.display.Markdown object>"
      ]
     },
     "metadata": {},
     "output_type": "display_data"
    },
    {
     "data": {
      "text/html": [
       "<div>\n",
       "<style scoped>\n",
       "    .dataframe tbody tr th:only-of-type {\n",
       "        vertical-align: middle;\n",
       "    }\n",
       "\n",
       "    .dataframe tbody tr th {\n",
       "        vertical-align: top;\n",
       "    }\n",
       "\n",
       "    .dataframe thead th {\n",
       "        text-align: right;\n",
       "    }\n",
       "</style>\n",
       "<table border=\"1\" class=\"dataframe\">\n",
       "  <thead>\n",
       "    <tr style=\"text-align: right;\">\n",
       "      <th></th>\n",
       "      <th>mean</th>\n",
       "      <th>count</th>\n",
       "    </tr>\n",
       "    <tr>\n",
       "      <th>Developer</th>\n",
       "      <th></th>\n",
       "      <th></th>\n",
       "    </tr>\n",
       "  </thead>\n",
       "  <tbody>\n",
       "    <tr>\n",
       "      <th>Supercell</th>\n",
       "      <td>1.570205e+06</td>\n",
       "      <td>3</td>\n",
       "    </tr>\n",
       "    <tr>\n",
       "      <th>Tencent Mobile International Limited</th>\n",
       "      <td>7.114090e+05</td>\n",
       "      <td>1</td>\n",
       "    </tr>\n",
       "    <tr>\n",
       "      <th>PopCap</th>\n",
       "      <td>4.695620e+05</td>\n",
       "      <td>1</td>\n",
       "    </tr>\n",
       "    <tr>\n",
       "      <th>Miniclip.com</th>\n",
       "      <td>2.578520e+05</td>\n",
       "      <td>1</td>\n",
       "    </tr>\n",
       "    <tr>\n",
       "      <th>Niantic, Inc.</th>\n",
       "      <td>2.220550e+05</td>\n",
       "      <td>2</td>\n",
       "    </tr>\n",
       "    <tr>\n",
       "      <th>Yahoo</th>\n",
       "      <td>1.995850e+05</td>\n",
       "      <td>1</td>\n",
       "    </tr>\n",
       "    <tr>\n",
       "      <th>Auxbrain, Inc.</th>\n",
       "      <td>1.745910e+05</td>\n",
       "      <td>1</td>\n",
       "    </tr>\n",
       "    <tr>\n",
       "      <th>NaturalMotion</th>\n",
       "      <td>1.539360e+05</td>\n",
       "      <td>2</td>\n",
       "    </tr>\n",
       "    <tr>\n",
       "      <th>Lion Studios</th>\n",
       "      <td>1.511570e+05</td>\n",
       "      <td>3</td>\n",
       "    </tr>\n",
       "    <tr>\n",
       "      <th>Kolibri Games GmbH</th>\n",
       "      <td>1.478535e+05</td>\n",
       "      <td>2</td>\n",
       "    </tr>\n",
       "  </tbody>\n",
       "</table>\n",
       "</div>"
      ],
      "text/plain": [
       "                                              mean  count\n",
       "Developer                                                \n",
       "Supercell                             1.570205e+06      3\n",
       "Tencent Mobile International Limited  7.114090e+05      1\n",
       "PopCap                                4.695620e+05      1\n",
       "Miniclip.com                          2.578520e+05      1\n",
       "Niantic, Inc.                         2.220550e+05      2\n",
       "Yahoo                                 1.995850e+05      1\n",
       "Auxbrain, Inc.                        1.745910e+05      1\n",
       "NaturalMotion                         1.539360e+05      2\n",
       "Lion Studios                          1.511570e+05      3\n",
       "Kolibri Games GmbH                    1.478535e+05      2"
      ]
     },
     "execution_count": 221,
     "metadata": {},
     "output_type": "execute_result"
    }
   ],
   "source": [
    "bold('**Топ 10 разарботчиков по User_Rating_Count**')\n",
    "data.groupby('Developer')['User_Rating_Count'].agg(['mean','count']).sort_values(by = 'mean', ascending = False).head(10)"
   ]
  },
  {
   "cell_type": "code",
   "execution_count": 223,
   "id": "10317a56",
   "metadata": {},
   "outputs": [
    {
     "data": {
      "text/markdown": [
       "**Топ 10 разарботчиков по кол-ву игр**"
      ],
      "text/plain": [
       "<IPython.core.display.Markdown object>"
      ]
     },
     "metadata": {},
     "output_type": "display_data"
    },
    {
     "data": {
      "text/plain": [
       "Developer\n",
       "Tapps Tecnologia da Informa\\xe7\\xe3o Ltda.    123\n",
       "Vikash Patel                                  107\n",
       "Netsummit Marketing, Inc.                      95\n",
       "GabySoft                                       85\n",
       "NetSummit Enterprises, Inc.                    77\n",
       "Andrew Kudrin                                  62\n",
       "MmpApps Corp.                                  61\n",
       "Domyung Kim                                    57\n",
       "Amy Prizer                                     46\n",
       "Detention Apps                                 42\n",
       "Name: Name, dtype: int64"
      ]
     },
     "execution_count": 223,
     "metadata": {},
     "output_type": "execute_result"
    }
   ],
   "source": [
    "bold('**Топ 10 разарботчиков по кол-ву игр**')\n",
    "data.groupby('Developer')['Name'].count().sort_values(ascending = False).nlargest(10)"
   ]
  },
  {
   "cell_type": "markdown",
   "id": "f4d4a85b",
   "metadata": {},
   "source": [
    "Можем заметить что в топ 10 по User_Rating_Count у всех разработчиков всего 1-3 продукта. Хотя у самого крупного по кол-ву игр разработчика более 100 игр"
   ]
  },
  {
   "cell_type": "markdown",
   "id": "740ccabb",
   "metadata": {},
   "source": [
    "Теперь разберемся с колонкой Genres, в ней очень много слов для описания и везде есть слово Games, которое можно дропнуть. Далее преобразуем эту колонку и посмотрим самые популярные сочетания."
   ]
  },
  {
   "cell_type": "code",
   "execution_count": 308,
   "id": "2288e798",
   "metadata": {},
   "outputs": [
    {
     "ename": "AttributeError",
     "evalue": "'tuple' object has no attribute 'replace'",
     "output_type": "error",
     "traceback": [
      "\u001b[0;31m---------------------------------------------------------------------------\u001b[0m",
      "\u001b[0;31mAttributeError\u001b[0m                            Traceback (most recent call last)",
      "\u001b[0;32m/var/folders/y_/zt7x2mm51q1g316nsqmh6vf80000gn/T/ipykernel_1481/829522276.py\u001b[0m in \u001b[0;36m<module>\u001b[0;34m\u001b[0m\n\u001b[0;32m----> 1\u001b[0;31m \u001b[0mdata\u001b[0m\u001b[0;34m[\u001b[0m\u001b[0;34m'Genres'\u001b[0m\u001b[0;34m]\u001b[0m \u001b[0;34m=\u001b[0m \u001b[0mdata\u001b[0m\u001b[0;34m[\u001b[0m\u001b[0;34m'Genres'\u001b[0m\u001b[0;34m]\u001b[0m\u001b[0;34m.\u001b[0m\u001b[0mapply\u001b[0m\u001b[0;34m(\u001b[0m\u001b[0;32mlambda\u001b[0m \u001b[0ms\u001b[0m \u001b[0;34m:\u001b[0m \u001b[0ms\u001b[0m\u001b[0;34m.\u001b[0m\u001b[0mreplace\u001b[0m\u001b[0;34m(\u001b[0m\u001b[0;34m'Games'\u001b[0m\u001b[0;34m,\u001b[0m\u001b[0;34m''\u001b[0m\u001b[0;34m)\u001b[0m\u001b[0;34m.\u001b[0m\u001b[0mreplace\u001b[0m\u001b[0;34m(\u001b[0m\u001b[0;34m'&'\u001b[0m\u001b[0;34m,\u001b[0m\u001b[0;34m' '\u001b[0m\u001b[0;34m)\u001b[0m\u001b[0;34m.\u001b[0m\u001b[0mreplace\u001b[0m\u001b[0;34m(\u001b[0m\u001b[0;34m','\u001b[0m\u001b[0;34m,\u001b[0m \u001b[0;34m' '\u001b[0m\u001b[0;34m)\u001b[0m\u001b[0;34m.\u001b[0m\u001b[0msplit\u001b[0m\u001b[0;34m(\u001b[0m\u001b[0;34m)\u001b[0m\u001b[0;34m)\u001b[0m\u001b[0;34m\u001b[0m\u001b[0;34m\u001b[0m\u001b[0m\n\u001b[0m",
      "\u001b[0;32m/opt/anaconda3/lib/python3.9/site-packages/pandas/core/series.py\u001b[0m in \u001b[0;36mapply\u001b[0;34m(self, func, convert_dtype, args, **kwargs)\u001b[0m\n\u001b[1;32m   4431\u001b[0m         \u001b[0mdtype\u001b[0m\u001b[0;34m:\u001b[0m \u001b[0mfloat64\u001b[0m\u001b[0;34m\u001b[0m\u001b[0;34m\u001b[0m\u001b[0m\n\u001b[1;32m   4432\u001b[0m         \"\"\"\n\u001b[0;32m-> 4433\u001b[0;31m         \u001b[0;32mreturn\u001b[0m \u001b[0mSeriesApply\u001b[0m\u001b[0;34m(\u001b[0m\u001b[0mself\u001b[0m\u001b[0;34m,\u001b[0m \u001b[0mfunc\u001b[0m\u001b[0;34m,\u001b[0m \u001b[0mconvert_dtype\u001b[0m\u001b[0;34m,\u001b[0m \u001b[0margs\u001b[0m\u001b[0;34m,\u001b[0m \u001b[0mkwargs\u001b[0m\u001b[0;34m)\u001b[0m\u001b[0;34m.\u001b[0m\u001b[0mapply\u001b[0m\u001b[0;34m(\u001b[0m\u001b[0;34m)\u001b[0m\u001b[0;34m\u001b[0m\u001b[0;34m\u001b[0m\u001b[0m\n\u001b[0m\u001b[1;32m   4434\u001b[0m \u001b[0;34m\u001b[0m\u001b[0m\n\u001b[1;32m   4435\u001b[0m     def _reduce(\n",
      "\u001b[0;32m/opt/anaconda3/lib/python3.9/site-packages/pandas/core/apply.py\u001b[0m in \u001b[0;36mapply\u001b[0;34m(self)\u001b[0m\n\u001b[1;32m   1086\u001b[0m             \u001b[0;32mreturn\u001b[0m \u001b[0mself\u001b[0m\u001b[0;34m.\u001b[0m\u001b[0mapply_str\u001b[0m\u001b[0;34m(\u001b[0m\u001b[0;34m)\u001b[0m\u001b[0;34m\u001b[0m\u001b[0;34m\u001b[0m\u001b[0m\n\u001b[1;32m   1087\u001b[0m \u001b[0;34m\u001b[0m\u001b[0m\n\u001b[0;32m-> 1088\u001b[0;31m         \u001b[0;32mreturn\u001b[0m \u001b[0mself\u001b[0m\u001b[0;34m.\u001b[0m\u001b[0mapply_standard\u001b[0m\u001b[0;34m(\u001b[0m\u001b[0;34m)\u001b[0m\u001b[0;34m\u001b[0m\u001b[0;34m\u001b[0m\u001b[0m\n\u001b[0m\u001b[1;32m   1089\u001b[0m \u001b[0;34m\u001b[0m\u001b[0m\n\u001b[1;32m   1090\u001b[0m     \u001b[0;32mdef\u001b[0m \u001b[0magg\u001b[0m\u001b[0;34m(\u001b[0m\u001b[0mself\u001b[0m\u001b[0;34m)\u001b[0m\u001b[0;34m:\u001b[0m\u001b[0;34m\u001b[0m\u001b[0;34m\u001b[0m\u001b[0m\n",
      "\u001b[0;32m/opt/anaconda3/lib/python3.9/site-packages/pandas/core/apply.py\u001b[0m in \u001b[0;36mapply_standard\u001b[0;34m(self)\u001b[0m\n\u001b[1;32m   1141\u001b[0m                 \u001b[0;31m# List[Union[Callable[..., Any], str]]]]]\"; expected\u001b[0m\u001b[0;34m\u001b[0m\u001b[0;34m\u001b[0m\u001b[0m\n\u001b[1;32m   1142\u001b[0m                 \u001b[0;31m# \"Callable[[Any], Any]\"\u001b[0m\u001b[0;34m\u001b[0m\u001b[0;34m\u001b[0m\u001b[0m\n\u001b[0;32m-> 1143\u001b[0;31m                 mapped = lib.map_infer(\n\u001b[0m\u001b[1;32m   1144\u001b[0m                     \u001b[0mvalues\u001b[0m\u001b[0;34m,\u001b[0m\u001b[0;34m\u001b[0m\u001b[0;34m\u001b[0m\u001b[0m\n\u001b[1;32m   1145\u001b[0m                     \u001b[0mf\u001b[0m\u001b[0;34m,\u001b[0m  \u001b[0;31m# type: ignore[arg-type]\u001b[0m\u001b[0;34m\u001b[0m\u001b[0;34m\u001b[0m\u001b[0m\n",
      "\u001b[0;32m/opt/anaconda3/lib/python3.9/site-packages/pandas/_libs/lib.pyx\u001b[0m in \u001b[0;36mpandas._libs.lib.map_infer\u001b[0;34m()\u001b[0m\n",
      "\u001b[0;32m/var/folders/y_/zt7x2mm51q1g316nsqmh6vf80000gn/T/ipykernel_1481/829522276.py\u001b[0m in \u001b[0;36m<lambda>\u001b[0;34m(s)\u001b[0m\n\u001b[0;32m----> 1\u001b[0;31m \u001b[0mdata\u001b[0m\u001b[0;34m[\u001b[0m\u001b[0;34m'Genres'\u001b[0m\u001b[0;34m]\u001b[0m \u001b[0;34m=\u001b[0m \u001b[0mdata\u001b[0m\u001b[0;34m[\u001b[0m\u001b[0;34m'Genres'\u001b[0m\u001b[0;34m]\u001b[0m\u001b[0;34m.\u001b[0m\u001b[0mapply\u001b[0m\u001b[0;34m(\u001b[0m\u001b[0;32mlambda\u001b[0m \u001b[0ms\u001b[0m \u001b[0;34m:\u001b[0m \u001b[0ms\u001b[0m\u001b[0;34m.\u001b[0m\u001b[0mreplace\u001b[0m\u001b[0;34m(\u001b[0m\u001b[0;34m'Games'\u001b[0m\u001b[0;34m,\u001b[0m\u001b[0;34m''\u001b[0m\u001b[0;34m)\u001b[0m\u001b[0;34m.\u001b[0m\u001b[0mreplace\u001b[0m\u001b[0;34m(\u001b[0m\u001b[0;34m'&'\u001b[0m\u001b[0;34m,\u001b[0m\u001b[0;34m' '\u001b[0m\u001b[0;34m)\u001b[0m\u001b[0;34m.\u001b[0m\u001b[0mreplace\u001b[0m\u001b[0;34m(\u001b[0m\u001b[0;34m','\u001b[0m\u001b[0;34m,\u001b[0m \u001b[0;34m' '\u001b[0m\u001b[0;34m)\u001b[0m\u001b[0;34m.\u001b[0m\u001b[0msplit\u001b[0m\u001b[0;34m(\u001b[0m\u001b[0;34m)\u001b[0m\u001b[0;34m)\u001b[0m\u001b[0;34m\u001b[0m\u001b[0;34m\u001b[0m\u001b[0m\n\u001b[0m",
      "\u001b[0;31mAttributeError\u001b[0m: 'tuple' object has no attribute 'replace'"
     ]
    }
   ],
   "source": [
    "data['Genres'] = data['Genres'].apply(lambda s : s.replace('Games','').replace('&',' ').replace(',', ' ').split())\n"
   ]
  },
  {
   "cell_type": "code",
   "execution_count": 309,
   "id": "7a49b74a",
   "metadata": {},
   "outputs": [],
   "source": [
    "data['Genres'] = data['Genres'].apply(tuple)"
   ]
  },
  {
   "cell_type": "code",
   "execution_count": 310,
   "id": "8586e977",
   "metadata": {},
   "outputs": [
    {
     "data": {
      "text/markdown": [
       "**Топ 10 сочетаний жанров по кол-ву игр**"
      ],
      "text/plain": [
       "<IPython.core.display.Markdown object>"
      ]
     },
     "metadata": {},
     "output_type": "display_data"
    },
    {
     "data": {
      "text/html": [
       "<div>\n",
       "<style scoped>\n",
       "    .dataframe tbody tr th:only-of-type {\n",
       "        vertical-align: middle;\n",
       "    }\n",
       "\n",
       "    .dataframe tbody tr th {\n",
       "        vertical-align: top;\n",
       "    }\n",
       "\n",
       "    .dataframe thead th {\n",
       "        text-align: right;\n",
       "    }\n",
       "</style>\n",
       "<table border=\"1\" class=\"dataframe\">\n",
       "  <thead>\n",
       "    <tr style=\"text-align: right;\">\n",
       "      <th></th>\n",
       "      <th>Genres</th>\n",
       "    </tr>\n",
       "  </thead>\n",
       "  <tbody>\n",
       "    <tr>\n",
       "      <th>(Strategy, Puzzle)</th>\n",
       "      <td>778</td>\n",
       "    </tr>\n",
       "    <tr>\n",
       "      <th>(Puzzle, Strategy)</th>\n",
       "      <td>694</td>\n",
       "    </tr>\n",
       "    <tr>\n",
       "      <th>(Strategy,)</th>\n",
       "      <td>588</td>\n",
       "    </tr>\n",
       "    <tr>\n",
       "      <th>(Strategy, Action)</th>\n",
       "      <td>483</td>\n",
       "    </tr>\n",
       "    <tr>\n",
       "      <th>(Simulation, Strategy)</th>\n",
       "      <td>465</td>\n",
       "    </tr>\n",
       "    <tr>\n",
       "      <th>(Strategy, Simulation)</th>\n",
       "      <td>462</td>\n",
       "    </tr>\n",
       "    <tr>\n",
       "      <th>(Action, Strategy)</th>\n",
       "      <td>421</td>\n",
       "    </tr>\n",
       "    <tr>\n",
       "      <th>(Strategy, Puzzle, Entertainment)</th>\n",
       "      <td>357</td>\n",
       "    </tr>\n",
       "    <tr>\n",
       "      <th>(Puzzle, Strategy, Entertainment)</th>\n",
       "      <td>342</td>\n",
       "    </tr>\n",
       "    <tr>\n",
       "      <th>(Strategy, Casual)</th>\n",
       "      <td>339</td>\n",
       "    </tr>\n",
       "  </tbody>\n",
       "</table>\n",
       "</div>"
      ],
      "text/plain": [
       "                                   Genres\n",
       "(Strategy, Puzzle)                    778\n",
       "(Puzzle, Strategy)                    694\n",
       "(Strategy,)                           588\n",
       "(Strategy, Action)                    483\n",
       "(Simulation, Strategy)                465\n",
       "(Strategy, Simulation)                462\n",
       "(Action, Strategy)                    421\n",
       "(Strategy, Puzzle, Entertainment)     357\n",
       "(Puzzle, Strategy, Entertainment)     342\n",
       "(Strategy, Casual)                    339"
      ]
     },
     "execution_count": 310,
     "metadata": {},
     "output_type": "execute_result"
    }
   ],
   "source": [
    "bold('**Топ 10 сочетаний жанров по кол-ву игр**')\n",
    "data['Genres'].value_counts().to_frame().nlargest(10,'Genres')"
   ]
  },
  {
   "cell_type": "code",
   "execution_count": 311,
   "id": "5236527b",
   "metadata": {},
   "outputs": [
    {
     "data": {
      "text/markdown": [
       "**Топ 10 игр по рейтингу юзеров + их сочетание жанров**"
      ],
      "text/plain": [
       "<IPython.core.display.Markdown object>"
      ]
     },
     "metadata": {},
     "output_type": "display_data"
    },
    {
     "data": {
      "text/html": [
       "<div>\n",
       "<style scoped>\n",
       "    .dataframe tbody tr th:only-of-type {\n",
       "        vertical-align: middle;\n",
       "    }\n",
       "\n",
       "    .dataframe tbody tr th {\n",
       "        vertical-align: top;\n",
       "    }\n",
       "\n",
       "    .dataframe thead th {\n",
       "        text-align: right;\n",
       "    }\n",
       "</style>\n",
       "<table border=\"1\" class=\"dataframe\">\n",
       "  <thead>\n",
       "    <tr style=\"text-align: right;\">\n",
       "      <th></th>\n",
       "      <th></th>\n",
       "      <th>mean</th>\n",
       "      <th>count</th>\n",
       "    </tr>\n",
       "    <tr>\n",
       "      <th>Genres</th>\n",
       "      <th>Name</th>\n",
       "      <th></th>\n",
       "      <th></th>\n",
       "    </tr>\n",
       "  </thead>\n",
       "  <tbody>\n",
       "    <tr>\n",
       "      <th>(Action, Entertainment, Strategy)</th>\n",
       "      <th>Clash of Clans</th>\n",
       "      <td>3032734.0</td>\n",
       "      <td>1</td>\n",
       "    </tr>\n",
       "    <tr>\n",
       "      <th>(Strategy, Entertainment, Action)</th>\n",
       "      <th>Clash Royale</th>\n",
       "      <td>1277095.0</td>\n",
       "      <td>1</td>\n",
       "    </tr>\n",
       "    <tr>\n",
       "      <th>(Action, Strategy)</th>\n",
       "      <th>PUBG MOBILE</th>\n",
       "      <td>711409.0</td>\n",
       "      <td>1</td>\n",
       "    </tr>\n",
       "    <tr>\n",
       "      <th>(Strategy, Entertainment, Adventure)</th>\n",
       "      <th>Plants vs. Zombies\\u2122 2</th>\n",
       "      <td>469562.0</td>\n",
       "      <td>1</td>\n",
       "    </tr>\n",
       "    <tr>\n",
       "      <th>(Strategy, Role, Playing, Health, Fitness)</th>\n",
       "      <th>Pok\\xe9mon GO</th>\n",
       "      <td>439776.0</td>\n",
       "      <td>1</td>\n",
       "    </tr>\n",
       "    <tr>\n",
       "      <th>(Strategy, Action)</th>\n",
       "      <th>Boom Beach</th>\n",
       "      <td>400787.0</td>\n",
       "      <td>1</td>\n",
       "    </tr>\n",
       "    <tr>\n",
       "      <th>(Strategy, Entertainment, Simulation)</th>\n",
       "      <th>Cash, Inc. Fame &amp; Fortune Game</th>\n",
       "      <td>374772.0</td>\n",
       "      <td>1</td>\n",
       "    </tr>\n",
       "    <tr>\n",
       "      <th>(Simulation, Strategy, Entertainment)</th>\n",
       "      <th>Idle Miner Tycoon: Cash Empire</th>\n",
       "      <td>283035.0</td>\n",
       "      <td>1</td>\n",
       "    </tr>\n",
       "    <tr>\n",
       "      <th>(Strategy, Entertainment, Simulation)</th>\n",
       "      <th>TapDefense</th>\n",
       "      <td>273687.0</td>\n",
       "      <td>1</td>\n",
       "    </tr>\n",
       "    <tr>\n",
       "      <th>(Entertainment, Action, Strategy)</th>\n",
       "      <th>Star Wars\\u2122: Commander</th>\n",
       "      <td>259030.0</td>\n",
       "      <td>1</td>\n",
       "    </tr>\n",
       "  </tbody>\n",
       "</table>\n",
       "</div>"
      ],
      "text/plain": [
       "                                                                                mean  \\\n",
       "Genres                                     Name                                        \n",
       "(Action, Entertainment, Strategy)          Clash of Clans                  3032734.0   \n",
       "(Strategy, Entertainment, Action)          Clash Royale                    1277095.0   \n",
       "(Action, Strategy)                         PUBG MOBILE                      711409.0   \n",
       "(Strategy, Entertainment, Adventure)       Plants vs. Zombies\\u2122 2       469562.0   \n",
       "(Strategy, Role, Playing, Health, Fitness) Pok\\xe9mon GO                    439776.0   \n",
       "(Strategy, Action)                         Boom Beach                       400787.0   \n",
       "(Strategy, Entertainment, Simulation)      Cash, Inc. Fame & Fortune Game   374772.0   \n",
       "(Simulation, Strategy, Entertainment)      Idle Miner Tycoon: Cash Empire   283035.0   \n",
       "(Strategy, Entertainment, Simulation)      TapDefense                       273687.0   \n",
       "(Entertainment, Action, Strategy)          Star Wars\\u2122: Commander       259030.0   \n",
       "\n",
       "                                                                           count  \n",
       "Genres                                     Name                                   \n",
       "(Action, Entertainment, Strategy)          Clash of Clans                      1  \n",
       "(Strategy, Entertainment, Action)          Clash Royale                        1  \n",
       "(Action, Strategy)                         PUBG MOBILE                         1  \n",
       "(Strategy, Entertainment, Adventure)       Plants vs. Zombies\\u2122 2          1  \n",
       "(Strategy, Role, Playing, Health, Fitness) Pok\\xe9mon GO                       1  \n",
       "(Strategy, Action)                         Boom Beach                          1  \n",
       "(Strategy, Entertainment, Simulation)      Cash, Inc. Fame & Fortune Game      1  \n",
       "(Simulation, Strategy, Entertainment)      Idle Miner Tycoon: Cash Empire      1  \n",
       "(Strategy, Entertainment, Simulation)      TapDefense                          1  \n",
       "(Entertainment, Action, Strategy)          Star Wars\\u2122: Commander          1  "
      ]
     },
     "execution_count": 311,
     "metadata": {},
     "output_type": "execute_result"
    }
   ],
   "source": [
    "bold('**Топ 10 игр по рейтингу юзеров + их сочетание жанров**')\n",
    "data.groupby(['Genres','Name'])['User_Rating_Count'].agg(['mean', 'count']).sort_values(by = 'mean', ascending = False).head(10)"
   ]
  },
  {
   "cell_type": "markdown",
   "id": "5145906f",
   "metadata": {},
   "source": [
    "#### Посмотрим зависит ли кол-во отзывов от того платная игра или нет в разрезе Age_Rating"
   ]
  },
  {
   "cell_type": "code",
   "execution_count": 312,
   "id": "ccb1e829",
   "metadata": {},
   "outputs": [
    {
     "data": {
      "text/html": [
       "<div>\n",
       "<style scoped>\n",
       "    .dataframe tbody tr th:only-of-type {\n",
       "        vertical-align: middle;\n",
       "    }\n",
       "\n",
       "    .dataframe tbody tr th {\n",
       "        vertical-align: top;\n",
       "    }\n",
       "\n",
       "    .dataframe thead th {\n",
       "        text-align: right;\n",
       "    }\n",
       "</style>\n",
       "<table border=\"1\" class=\"dataframe\">\n",
       "  <thead>\n",
       "    <tr style=\"text-align: right;\">\n",
       "      <th></th>\n",
       "      <th>Age_Rating</th>\n",
       "      <th>free</th>\n",
       "      <th>in_app_paid</th>\n",
       "      <th>mean</th>\n",
       "      <th>count</th>\n",
       "    </tr>\n",
       "  </thead>\n",
       "  <tbody>\n",
       "    <tr>\n",
       "      <th>12</th>\n",
       "      <td>9+</td>\n",
       "      <td>free</td>\n",
       "      <td>free</td>\n",
       "      <td>244.980057</td>\n",
       "      <td>702</td>\n",
       "    </tr>\n",
       "    <tr>\n",
       "      <th>8</th>\n",
       "      <td>4+</td>\n",
       "      <td>free</td>\n",
       "      <td>free</td>\n",
       "      <td>290.137557</td>\n",
       "      <td>5525</td>\n",
       "    </tr>\n",
       "    <tr>\n",
       "      <th>10</th>\n",
       "      <td>4+</td>\n",
       "      <td>not_free</td>\n",
       "      <td>free</td>\n",
       "      <td>325.029259</td>\n",
       "      <td>1538</td>\n",
       "    </tr>\n",
       "    <tr>\n",
       "      <th>2</th>\n",
       "      <td>12+</td>\n",
       "      <td>not_free</td>\n",
       "      <td>free</td>\n",
       "      <td>407.563574</td>\n",
       "      <td>291</td>\n",
       "    </tr>\n",
       "    <tr>\n",
       "      <th>0</th>\n",
       "      <td>12+</td>\n",
       "      <td>free</td>\n",
       "      <td>free</td>\n",
       "      <td>475.554702</td>\n",
       "      <td>521</td>\n",
       "    </tr>\n",
       "    <tr>\n",
       "      <th>4</th>\n",
       "      <td>17+</td>\n",
       "      <td>free</td>\n",
       "      <td>free</td>\n",
       "      <td>555.834225</td>\n",
       "      <td>374</td>\n",
       "    </tr>\n",
       "    <tr>\n",
       "      <th>6</th>\n",
       "      <td>17+</td>\n",
       "      <td>not_free</td>\n",
       "      <td>free</td>\n",
       "      <td>842.129630</td>\n",
       "      <td>54</td>\n",
       "    </tr>\n",
       "    <tr>\n",
       "      <th>14</th>\n",
       "      <td>9+</td>\n",
       "      <td>not_free</td>\n",
       "      <td>free</td>\n",
       "      <td>895.608150</td>\n",
       "      <td>319</td>\n",
       "    </tr>\n",
       "    <tr>\n",
       "      <th>11</th>\n",
       "      <td>4+</td>\n",
       "      <td>not_free</td>\n",
       "      <td>not_free</td>\n",
       "      <td>987.138047</td>\n",
       "      <td>297</td>\n",
       "    </tr>\n",
       "    <tr>\n",
       "      <th>7</th>\n",
       "      <td>17+</td>\n",
       "      <td>not_free</td>\n",
       "      <td>not_free</td>\n",
       "      <td>1225.875000</td>\n",
       "      <td>16</td>\n",
       "    </tr>\n",
       "    <tr>\n",
       "      <th>9</th>\n",
       "      <td>4+</td>\n",
       "      <td>free</td>\n",
       "      <td>not_free</td>\n",
       "      <td>1292.774179</td>\n",
       "      <td>4446</td>\n",
       "    </tr>\n",
       "    <tr>\n",
       "      <th>3</th>\n",
       "      <td>12+</td>\n",
       "      <td>not_free</td>\n",
       "      <td>not_free</td>\n",
       "      <td>3213.051852</td>\n",
       "      <td>135</td>\n",
       "    </tr>\n",
       "    <tr>\n",
       "      <th>1</th>\n",
       "      <td>12+</td>\n",
       "      <td>free</td>\n",
       "      <td>not_free</td>\n",
       "      <td>3456.953069</td>\n",
       "      <td>1108</td>\n",
       "    </tr>\n",
       "    <tr>\n",
       "      <th>15</th>\n",
       "      <td>9+</td>\n",
       "      <td>not_free</td>\n",
       "      <td>not_free</td>\n",
       "      <td>3611.800000</td>\n",
       "      <td>145</td>\n",
       "    </tr>\n",
       "    <tr>\n",
       "      <th>5</th>\n",
       "      <td>17+</td>\n",
       "      <td>free</td>\n",
       "      <td>not_free</td>\n",
       "      <td>6431.443439</td>\n",
       "      <td>221</td>\n",
       "    </tr>\n",
       "    <tr>\n",
       "      <th>13</th>\n",
       "      <td>9+</td>\n",
       "      <td>free</td>\n",
       "      <td>not_free</td>\n",
       "      <td>7262.955894</td>\n",
       "      <td>1315</td>\n",
       "    </tr>\n",
       "  </tbody>\n",
       "</table>\n",
       "</div>"
      ],
      "text/plain": [
       "   Age_Rating      free in_app_paid         mean  count\n",
       "12         9+      free        free   244.980057    702\n",
       "8          4+      free        free   290.137557   5525\n",
       "10         4+  not_free        free   325.029259   1538\n",
       "2         12+  not_free        free   407.563574    291\n",
       "0         12+      free        free   475.554702    521\n",
       "4         17+      free        free   555.834225    374\n",
       "6         17+  not_free        free   842.129630     54\n",
       "14         9+  not_free        free   895.608150    319\n",
       "11         4+  not_free    not_free   987.138047    297\n",
       "7         17+  not_free    not_free  1225.875000     16\n",
       "9          4+      free    not_free  1292.774179   4446\n",
       "3         12+  not_free    not_free  3213.051852    135\n",
       "1         12+      free    not_free  3456.953069   1108\n",
       "15         9+  not_free    not_free  3611.800000    145\n",
       "5         17+      free    not_free  6431.443439    221\n",
       "13         9+      free    not_free  7262.955894   1315"
      ]
     },
     "execution_count": 312,
     "metadata": {},
     "output_type": "execute_result"
    }
   ],
   "source": [
    "data.groupby(['Age_Rating','free','in_app_paid'])['User_Rating_Count'].agg(['mean', 'count']).reset_index().sort_values(by = 'mean')"
   ]
  },
  {
   "cell_type": "markdown",
   "id": "df215eb7",
   "metadata": {},
   "source": [
    "Опять же можем заметить что наличие внутриигровых транзакций положительно кореллирует с кол-вом оставляемых отзывов"
   ]
  },
  {
   "cell_type": "markdown",
   "id": "449f9611",
   "metadata": {},
   "source": [
    "# Финальные выводы:\n",
    "* Никакие имеющиеся у нас показатели не влияют на оценку, которую пользователь ставит игре. По всем разрезам средняя оценка 4-4.5 баллов\n",
    "* Пользователи очень нехотно ставят оценку ниже 3.5, а 3.5 ставят с такой же частотой как и 5 баллов\n",
    "* Люди хорошо относятся:\n",
    "    * к бесплатным играм где есть внутриигровые транзакции\n",
    "    * к платным играм где есть внутриигровые транзакции\n",
    "    * к играм с рейтингом 9+ и выше\n",
    "    * чем больше размер игры, тем охотнее люди оставляют отзывы\n",
    "* Люди очень неохотно оставляют отзывы в полностью бесплатных играх и в платных играх без внутриигровых платежей\n",
    "* Самое большое кол-во игр - 4+ лет, но в отзывов в среднем в несколько раз меньше\n",
    "* Нету никакой разницы в какой месяц выпускать игру\n",
    "* Топ разработчики по кол-ву отзывов имеют всего 1-3 игры"
   ]
  },
  {
   "cell_type": "code",
   "execution_count": null,
   "id": "e6ae575f",
   "metadata": {},
   "outputs": [],
   "source": []
  }
 ],
 "metadata": {
  "kernelspec": {
   "display_name": "Python 3 (ipykernel)",
   "language": "python",
   "name": "python3"
  },
  "language_info": {
   "codemirror_mode": {
    "name": "ipython",
    "version": 3
   },
   "file_extension": ".py",
   "mimetype": "text/x-python",
   "name": "python",
   "nbconvert_exporter": "python",
   "pygments_lexer": "ipython3",
   "version": "3.9.13"
  }
 },
 "nbformat": 4,
 "nbformat_minor": 5
}
